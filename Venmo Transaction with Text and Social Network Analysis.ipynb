{
  "cells": [
    {
      "cell_type": "markdown",
      "metadata": {
        "id": "UGteBSz_dfh9"
      },
      "source": [
        "# Venmo Transaction with Text and Social Network Analysis\n"
      ]
    },
    {
      "cell_type": "markdown",
      "metadata": {
        "id": "XdO9vU06faIu"
      },
      "source": [
        "### __1. Text Analytics__"
      ]
    },
    {
      "cell_type": "markdown",
      "metadata": {
        "id": "WPY1osqkitrz"
      },
      "source": [
        "#### 1.1 Explore the dataset"
      ]
    },
    {
      "cell_type": "code",
      "execution_count": 1,
      "metadata": {
        "colab": {
          "base_uri": "https://localhost:8080/"
        },
        "id": "an2NE9kQ7yLX",
        "outputId": "c49ccef7-5f17-43c3-b52a-33034feaa9c6"
      },
      "outputs": [
        {
          "name": "stdout",
          "output_type": "stream",
          "text": [
            "Collecting pyspark\n",
            "  Downloading pyspark-3.5.1.tar.gz (317.0 MB)\n",
            "\u001b[2K     \u001b[90m━━━━━━━━━━━━━━━━━━━━━━━━━━━━━━━━━━━━━━━━\u001b[0m \u001b[32m317.0/317.0 MB\u001b[0m \u001b[31m3.0 MB/s\u001b[0m eta \u001b[36m0:00:00\u001b[0m\n",
            "\u001b[?25h  Preparing metadata (setup.py) ... \u001b[?25l\u001b[?25hdone\n",
            "Requirement already satisfied: py4j==0.10.9.7 in /usr/local/lib/python3.10/dist-packages (from pyspark) (0.10.9.7)\n",
            "Building wheels for collected packages: pyspark\n",
            "  Building wheel for pyspark (setup.py) ... \u001b[?25l\u001b[?25hdone\n",
            "  Created wheel for pyspark: filename=pyspark-3.5.1-py2.py3-none-any.whl size=317488491 sha256=e651258dd4bea268285b1c3b06843e09a0c5bfbbf267afec3361082e31026f6d\n",
            "  Stored in directory: /root/.cache/pip/wheels/80/1d/60/2c256ed38dddce2fdd93be545214a63e02fbd8d74fb0b7f3a6\n",
            "Successfully built pyspark\n",
            "Installing collected packages: pyspark\n",
            "Successfully installed pyspark-3.5.1\n"
          ]
        }
      ],
      "source": [
        "pip install pyspark"
      ]
    },
    {
      "cell_type": "code",
      "execution_count": 2,
      "metadata": {
        "id": "LGo1sZ7rvBW5"
      },
      "outputs": [],
      "source": [
        "# import packages\n",
        "import re\n",
        "import pandas as pd\n",
        "from google.colab import drive\n",
        "from pyspark.sql import SparkSession\n",
        "from pyspark.sql.functions import lit, col, udf, explode, array_contains, split, size, array_union\n",
        "from pyspark.sql.types import ArrayType, StringType"
      ]
    },
    {
      "cell_type": "code",
      "execution_count": 3,
      "metadata": {
        "colab": {
          "base_uri": "https://localhost:8080/"
        },
        "id": "W0kRU7P-u7-P",
        "outputId": "829d1c27-928d-488c-ba56-a0b7572f52ab"
      },
      "outputs": [
        {
          "name": "stdout",
          "output_type": "stream",
          "text": [
            "Mounted at /content/drive\n"
          ]
        }
      ],
      "source": [
        "# Mount Google Drive\n",
        "drive.mount('/content/drive')"
      ]
    },
    {
      "cell_type": "code",
      "execution_count": 4,
      "metadata": {
        "id": "AaYQ6VuXfgih"
      },
      "outputs": [],
      "source": [
        "# Create a Spark session\n",
        "spark = SparkSession.builder \\\n",
        "    .appName(\"VenmoSample\") \\\n",
        "    .getOrCreate()"
      ]
    },
    {
      "cell_type": "code",
      "execution_count": 5,
      "metadata": {
        "colab": {
          "base_uri": "https://localhost:8080/"
        },
        "id": "IyyRvWoju2cd",
        "outputId": "2c615df1-ef31-4318-dfff-80bc2258d18d"
      },
      "outputs": [
        {
          "name": "stdout",
          "output_type": "stream",
          "text": [
            "+-------+-------+----------------+-------------------+------------+-----------+--------------------+\n",
            "|  user1|  user2|transaction_type|           datetime| description|is_business|            story_id|\n",
            "+-------+-------+----------------+-------------------+------------+-----------+--------------------+\n",
            "|1218774|1528945|         payment|2015-11-27 10:48:19|        Uber|      false|5657c473cd03c9af2...|\n",
            "|5109483|4782303|         payment|2015-06-17 11:37:04|      Costco|      false|5580f9702b64f70ab...|\n",
            "|4322148|3392963|         payment|2015-06-19 07:05:31|Sweaty balls|      false|55835ccb1a624b14a...|\n",
            "| 469894|1333620|          charge|2016-06-03 23:34:13|          🎥|      false|5751b185cd03c9af2...|\n",
            "|2960727|3442373|         payment|2016-05-29 23:23:42|           ⚡|      false|574b178ecd03c9af2...|\n",
            "+-------+-------+----------------+-------------------+------------+-----------+--------------------+\n",
            "only showing top 5 rows\n",
            "\n"
          ]
        }
      ],
      "source": [
        "# Path to the file\n",
        "parquet_file_path = '/content/drive/Shared drives/423/HW5/VenmoSample.snappy.parquet'\n",
        "\n",
        "# Read the Parquet file into a DataFrame\n",
        "data = spark.read.parquet(parquet_file_path)\n",
        "data.show(5)"
      ]
    },
    {
      "cell_type": "code",
      "execution_count": 6,
      "metadata": {
        "colab": {
          "base_uri": "https://localhost:8080/"
        },
        "id": "Q3uAUo8lnudy",
        "outputId": "b9a7f133-855a-49dd-fff9-f1b88322b4e0"
      },
      "outputs": [
        {
          "name": "stdout",
          "output_type": "stream",
          "text": [
            "+----------+---------+---------+--------+------+--------------+-----------+-----+---------------+---------+\n",
            "|    People|     Food|    Event|Activity|Travel|Transportation|    Utility| Cash|Illegal/Sarcasm|@dropdown|\n",
            "+----------+---------+---------+--------+------+--------------+-----------+-----+---------------+---------+\n",
            "|    friend|     food| birthday|    ball| beach|          lyft|       bill| atm |      addiction|     NULL|\n",
            "|friendship|      bbq|christmas|    boat| place|          uber|      cable|bank |           drug|     NULL|\n",
            "|      baby|     bean|    happy|     bar|    la|           cab|        fee|cash |          wangs|     NULL|\n",
            "|       boy|    latte|     bday|    book| world|           bus|   electric|money|           weed|     NULL|\n",
            "|      girl|breakfast|  wedding|    club| hotel|           car|electricity| buck|           anal|     NULL|\n",
            "+----------+---------+---------+--------+------+--------------+-----------+-----+---------------+---------+\n",
            "only showing top 5 rows\n",
            "\n"
          ]
        }
      ],
      "source": [
        "# Load the word classification dictionary\n",
        "word_dict_path = \"/content/drive/Shared drives/423/HW5/Venmo Word Classification Dictionary BAX-423 - Word_Dict.csv\"\n",
        "word_dict_df = spark.read.option(\"header\", \"true\").csv(word_dict_path)\n",
        "word_dict_df.show(5)"
      ]
    },
    {
      "cell_type": "code",
      "execution_count": 7,
      "metadata": {
        "colab": {
          "base_uri": "https://localhost:8080/"
        },
        "id": "jIvWxAXdn9OA",
        "outputId": "1e9fdf69-a964-4740-bbf1-f4f1c6ae9881"
      },
      "outputs": [
        {
          "name": "stdout",
          "output_type": "stream",
          "text": [
            "+-----+------+----+--------+--------------+------+-------+\n",
            "|Event|Travel|Food|Activity|Transportation|People|Utility|\n",
            "+-----+------+----+--------+--------------+------+-------+\n",
            "| 🇦🇺|    🏔|  🍇|      👾|            🚄|    😀|      ⚡|\n",
            "| 🇫🇷|     ⛰|  🍈|      🕴|            🚅|    😃|     💡|\n",
            "|   🎂|    🌋|  🍉|      🎪|            🚆|    😄|     🔌|\n",
            "|   🛍|    🗻|  🍊|      🎭|            🚇|    😁|     📺|\n",
            "| 🇨🇦|    🏕|  🍋|      🎨|            🚈|    😆|     🔌|\n",
            "+-----+------+----+--------+--------------+------+-------+\n",
            "only showing top 5 rows\n",
            "\n"
          ]
        }
      ],
      "source": [
        "# Load the emoji classification dictionary\n",
        "emoji_dict_path = \"/content/drive/Shared drives/423/HW5/Venmo_Emoji_Classification_Dictionary.csv\"\n",
        "emoji_dict_df = spark.read.option(\"header\", \"true\").csv(emoji_dict_path)\n",
        "emoji_dict_df.show(5)"
      ]
    },
    {
      "cell_type": "markdown",
      "metadata": {
        "id": "ejamRBydi0J7"
      },
      "source": [
        "#### 1.2 Add 10 words to the dictionary"
      ]
    },
    {
      "cell_type": "code",
      "execution_count": 8,
      "metadata": {
        "id": "NPa3rRulkQ4l"
      },
      "outputs": [],
      "source": [
        "# List of new words added\n",
        "new_words = [\n",
        "    (\"mate\", \"People\"),\n",
        "    (\"conference\", \"Event\"),\n",
        "    (\"festival\", \"Event\"),\n",
        "    (\"reunion\", \"Event\"),\n",
        "    (\"reading\", \"Activity\"),\n",
        "    (\"gaming\", \"Activity\"),\n",
        "    (\"scooter\", \"Transportation\"),\n",
        "    (\"cheque\", \"Cash\"),\n",
        "    (\"transfer\", \"Cash\"),\n",
        "    (\"fraud\", \"Illegal/Sarcasm\")\n",
        "]"
      ]
    },
    {
      "cell_type": "code",
      "execution_count": 9,
      "metadata": {
        "id": "dfp0J-vvpouG"
      },
      "outputs": [],
      "source": [
        "# Define the schema of the existing dictionary\n",
        "schema = word_dict_df.schema\n",
        "\n",
        "# Create a DataFrame with only the necessary columns\n",
        "new_words_df = spark.createDataFrame(new_words, [\"Word\", \"Category\"])\n",
        "\n",
        "# Create a DataFrame with the full schema, filling missing columns with null values\n",
        "for field in schema:\n",
        "    if field.name not in new_words_df.columns:\n",
        "        new_words_df = new_words_df.withColumn(field.name, lit(None).cast(field.dataType))\n",
        "\n",
        "# Append new words to the existing dictionary\n",
        "word_dict_df = word_dict_df.union(new_words_df.select(schema.names))"
      ]
    },
    {
      "cell_type": "code",
      "execution_count": 10,
      "metadata": {
        "colab": {
          "base_uri": "https://localhost:8080/"
        },
        "id": "zXP0Mt5QhtXt",
        "outputId": "d2cd2561-9232-4a1e-9cf7-fdf12ea99c7a"
      },
      "outputs": [
        {
          "name": "stdout",
          "output_type": "stream",
          "text": [
            "[Row(People='friend', Food='food', Event='birthday', Activity='ball', Travel='beach', Transportation='lyft', Utility='bill', Cash='atm ', Illegal/Sarcasm='addiction', @dropdown=None), Row(People='friendship', Food='bbq', Event='christmas', Activity='boat', Travel='place', Transportation='uber', Utility='cable', Cash='bank ', Illegal/Sarcasm='drug', @dropdown=None), Row(People='baby', Food='bean', Event='happy', Activity='bar', Travel='la', Transportation='cab', Utility='fee', Cash='cash ', Illegal/Sarcasm='wangs', @dropdown=None), Row(People='boy', Food='latte', Event='bday', Activity='book', Travel='world', Transportation='bus', Utility='electric', Cash='money', Illegal/Sarcasm='weed', @dropdown=None), Row(People='girl', Food='breakfast', Event='wedding', Activity='club', Travel='hotel', Transportation='car', Utility='electricity', Cash='buck', Illegal/Sarcasm='anal', @dropdown=None)]\n"
          ]
        }
      ],
      "source": [
        "print(word_dict_df.head(5))"
      ]
    },
    {
      "cell_type": "markdown",
      "metadata": {
        "id": "u7z586QHjCmx"
      },
      "source": [
        "#### 1.3 Classify Venmo’s transactions"
      ]
    },
    {
      "cell_type": "code",
      "execution_count": 11,
      "metadata": {
        "id": "ekMi9d2mtHwk"
      },
      "outputs": [],
      "source": [
        "# Preprocess the Data (separate the emojis & text)\n",
        "def extract_emojis(text):\n",
        "    emoji_pattern = re.compile(\"[\"\n",
        "                               u\"\\U0001F600-\\U0001F64F\"  # emoticons\n",
        "                               u\"\\U0001F300-\\U0001F5FF\"  # symbols & pictographs\n",
        "                               u\"\\U0001F680-\\U0001F6FF\"  # transport & map symbols\n",
        "                               u\"\\U0001F1E0-\\U0001F1FF\"  # flags (iOS)\n",
        "                               \"]+\", flags=re.UNICODE)\n",
        "    return emoji_pattern.findall(text)\n",
        "\n",
        "def remove_emojis(text):\n",
        "    emoji_pattern = re.compile(\"[\"\n",
        "                               u\"\\U0001F600-\\U0001F64F\"\n",
        "                               u\"\\U0001F300-\\U0001F5FF\"\n",
        "                               u\"\\U0001F680-\\U0001F6FF\"\n",
        "                               u\"\\U0001F1E0-\\U0001F1FF\"\n",
        "                               \"]+\", flags=re.UNICODE)\n",
        "    return emoji_pattern.sub(r'', text)\n",
        "\n",
        "extract_emojis_udf = udf(extract_emojis, ArrayType(StringType()))\n",
        "remove_emojis_udf = udf(remove_emojis, StringType())\n",
        "\n",
        "data = data.withColumn(\"emojis\", extract_emojis_udf(col(\"description\")))\n",
        "data = data.withColumn(\"text\", remove_emojis_udf(col(\"description\")))"
      ]
    },
    {
      "cell_type": "code",
      "execution_count": 13,
      "metadata": {
        "id": "F3ax21rwt1Y9"
      },
      "outputs": [],
      "source": [
        "# reload them in pandas\n",
        "emoji_dict_df = pd.read_csv(emoji_dict_path)\n",
        "word_dict_df = pd.read_csv(word_dict_path)\n",
        "\n",
        "# Create dictionaries for lookup\n",
        "emoji_category_dict = {emoji: category for category in emoji_dict_df.columns for emoji in emoji_dict_df[category].dropna()}\n",
        "word_category_dict = {word: category for category in word_dict_df.columns for word in word_dict_df[category].dropna()}\n",
        "\n",
        "def classify_emojis(emojis):\n",
        "    categories = [emoji_category_dict.get(e) for e in emojis]\n",
        "    return [c for c in categories if c is not None]\n",
        "\n",
        "def classify_words(text):\n",
        "    words = text.split()\n",
        "    categories = [word_category_dict.get(w) for w in words]\n",
        "    return [c for c in categories if c is not None]\n",
        "\n",
        "classify_emojis_udf = udf(classify_emojis, ArrayType(StringType()))\n",
        "classify_words_udf = udf(classify_words, ArrayType(StringType()))\n",
        "\n",
        "data = data.withColumn(\"emoji_categories\", classify_emojis_udf(col(\"emojis\")))\n",
        "data = data.withColumn(\"word_categories\", classify_words_udf(col(\"text\")))\n"
      ]
    },
    {
      "cell_type": "code",
      "execution_count": 15,
      "metadata": {
        "colab": {
          "base_uri": "https://localhost:8080/"
        },
        "id": "gvBq5xNIxVF7",
        "outputId": "2fd02a78-e982-424a-de0f-d17efa3633f2"
      },
      "outputs": [
        {
          "name": "stdout",
          "output_type": "stream",
          "text": [
            "Percentage of emoji-only transactions: 21.418004461322763%\n",
            "+-----+-----+\n",
            "|emoji|count|\n",
            "+-----+-----+\n",
            "|   🍕|68011|\n",
            "|   🍻|54386|\n",
            "|   🍴|38437|\n",
            "| 🏠💸|35380|\n",
            "|   🍺|33300|\n",
            "+-----+-----+\n",
            "\n",
            "+--------+------+\n",
            "|category| count|\n",
            "+--------+------+\n",
            "|    Food|494365|\n",
            "|  People|311015|\n",
            "|Activity|123049|\n",
            "+--------+------+\n",
            "\n"
          ]
        }
      ],
      "source": [
        "# Percentage of emoji-only transactions\n",
        "emoji_only = data.filter((col(\"text\") == \"\") & (size(col(\"emojis\")) > 0))\n",
        "emoji_only_percentage = emoji_only.count() / data.count() * 100\n",
        "print(f\"Percentage of emoji-only transactions: {emoji_only_percentage}%\")\n",
        "\n",
        "# Top 5 most popular emojis\n",
        "top_5_emojis = data.select(explode(col(\"emojis\")).alias(\"emoji\")).groupBy(\"emoji\").count().orderBy(\"count\", ascending=False).limit(5)\n",
        "top_5_emojis.show()\n",
        "\n",
        "# Top 3 most popular emoji categories\n",
        "top_3_emoji_categories = data.select(explode(col(\"emoji_categories\")).alias(\"category\")).groupBy(\"category\").count().orderBy(\"count\", ascending=False).limit(3)\n",
        "top_3_emoji_categories.show()"
      ]
    },
    {
      "cell_type": "markdown",
      "metadata": {
        "id": "6LyQzKFTjKY8"
      },
      "source": [
        "#### 1.4 Explore user's static spending profile"
      ]
    },
    {
      "cell_type": "code",
      "execution_count": 16,
      "metadata": {
        "id": "rwmnmCb51Pv8"
      },
      "outputs": [],
      "source": [
        "data = data.withColumn(\"combined_categories\", array_union(col(\"emoji_categories\"), col(\"word_categories\")))"
      ]
    },
    {
      "cell_type": "code",
      "execution_count": 17,
      "metadata": {
        "colab": {
          "base_uri": "https://localhost:8080/"
        },
        "id": "GZGEUQkz1ZHs",
        "outputId": "f49a357c-d1a5-4d14-b528-5b35929d515a"
      },
      "outputs": [
        {
          "name": "stdout",
          "output_type": "stream",
          "text": [
            "+-------+-------+----------------+-------------------+------------+-----------+--------------------+------+------------+----------------+-----------------+-------------------+\n",
            "|  user1|  user2|transaction_type|           datetime| description|is_business|            story_id|emojis|        text|emoji_categories|  word_categories|combined_categories|\n",
            "+-------+-------+----------------+-------------------+------------+-----------+--------------------+------+------------+----------------+-----------------+-------------------+\n",
            "|1218774|1528945|         payment|2015-11-27 10:48:19|        Uber|      false|5657c473cd03c9af2...|    []|        Uber|              []|               []|                 []|\n",
            "|5109483|4782303|         payment|2015-06-17 11:37:04|      Costco|      false|5580f9702b64f70ab...|    []|      Costco|              []|               []|                 []|\n",
            "|4322148|3392963|         payment|2015-06-19 07:05:31|Sweaty balls|      false|55835ccb1a624b14a...|    []|Sweaty balls|              []|[Illegal/Sarcasm]|  [Illegal/Sarcasm]|\n",
            "| 469894|1333620|          charge|2016-06-03 23:34:13|          🎥|      false|5751b185cd03c9af2...|  [🎥]|            |         [Event]|               []|            [Event]|\n",
            "|2960727|3442373|         payment|2016-05-29 23:23:42|           ⚡|      false|574b178ecd03c9af2...|    []|           ⚡|              []|               []|                 []|\n",
            "+-------+-------+----------------+-------------------+------------+-----------+--------------------+------+------------+----------------+-----------------+-------------------+\n",
            "only showing top 5 rows\n",
            "\n"
          ]
        }
      ],
      "source": [
        "data.show(5)"
      ]
    },
    {
      "cell_type": "code",
      "execution_count": 18,
      "metadata": {
        "colab": {
          "base_uri": "https://localhost:8080/"
        },
        "id": "9X-FtxDdifE-",
        "outputId": "5648b4cf-d61d-4855-da20-8dd85d37d1e5"
      },
      "outputs": [
        {
          "name": "stdout",
          "output_type": "stream",
          "text": [
            "+-------+---------------+\n",
            "|  user1|       category|\n",
            "+-------+---------------+\n",
            "|4322148|Illegal/Sarcasm|\n",
            "| 469894|          Event|\n",
            "|3766386|        Utility|\n",
            "|1134661|         People|\n",
            "|4238868|           Food|\n",
            "|3625798|         People|\n",
            "|3625798|           Cash|\n",
            "|3625798|Illegal/Sarcasm|\n",
            "| 613908| Transportation|\n",
            "| 656477|        Utility|\n",
            "|6222232|        Utility|\n",
            "| 367859|        Utility|\n",
            "|7533517|       Activity|\n",
            "|6530112|        Utility|\n",
            "|1391021|           Food|\n",
            "|2178055|       Activity|\n",
            "|2178055|        Utility|\n",
            "| 444145|       Activity|\n",
            "|5696834|       Activity|\n",
            "|4351351|         People|\n",
            "+-------+---------------+\n",
            "only showing top 20 rows\n",
            "\n"
          ]
        }
      ],
      "source": [
        "# Explode the combined_categories to get one category per row\n",
        "exploded_data = data.select(\"user1\", explode(col(\"combined_categories\")).alias(\"category\"))\n",
        "exploded_data.show()"
      ]
    },
    {
      "cell_type": "code",
      "execution_count": 19,
      "metadata": {
        "colab": {
          "base_uri": "https://localhost:8080/"
        },
        "id": "cfeVrJpajaOe",
        "outputId": "50685a93-94fa-4863-da55-ef5b800a5817"
      },
      "outputs": [
        {
          "name": "stdout",
          "output_type": "stream",
          "text": [
            "+-------+---------------+-----+\n",
            "|  user1|       category|count|\n",
            "+-------+---------------+-----+\n",
            "| 412023|          Event|    1|\n",
            "|2656348|         Travel|    1|\n",
            "|1806527|        Utility|    6|\n",
            "|5576940|        Utility|    1|\n",
            "|5301509|           Food|    1|\n",
            "| 377035|           Food|    3|\n",
            "|2549578|       Activity|    2|\n",
            "| 432599| Transportation|    1|\n",
            "|1637274|         People|    1|\n",
            "|2091723|           Food|    2|\n",
            "| 826176|        Utility|    1|\n",
            "|7952748|       Activity|    1|\n",
            "|1347558|           Food|    2|\n",
            "|1533205|        Utility|    1|\n",
            "|2851121|Illegal/Sarcasm|    3|\n",
            "| 151342| Transportation|    1|\n",
            "|1243430|           Food|    1|\n",
            "| 312006|       Activity|    1|\n",
            "|2267289|        Utility|    1|\n",
            "|3343832|       Activity|    2|\n",
            "+-------+---------------+-----+\n",
            "only showing top 20 rows\n",
            "\n"
          ]
        }
      ],
      "source": [
        "# Group by user and category, and count the occurrences\n",
        "user_category_count = exploded_data.groupBy(\"user1\", \"category\").count()\n",
        "user_category_count.show()"
      ]
    },
    {
      "cell_type": "code",
      "execution_count": 20,
      "metadata": {
        "id": "fphjSrTcjaRQ"
      },
      "outputs": [],
      "source": [
        "user_category_profile = user_category_count.groupBy(\"user1\").pivot(\"category\").sum(\"count\")"
      ]
    },
    {
      "cell_type": "code",
      "execution_count": 21,
      "metadata": {
        "colab": {
          "base_uri": "https://localhost:8080/"
        },
        "id": "bRaLEtex4ga8",
        "outputId": "d153c25d-6ced-47e1-a354-8f8122427da8"
      },
      "outputs": [
        {
          "name": "stdout",
          "output_type": "stream",
          "text": [
            "+-------+--------+----+-----+----+---------------+------+--------------+------+-------+\n",
            "|  user1|Activity|Cash|Event|Food|Illegal/Sarcasm|People|Transportation|Travel|Utility|\n",
            "+-------+--------+----+-----+----+---------------+------+--------------+------+-------+\n",
            "|2623417|       2|NULL| NULL|   1|              1|  NULL|          NULL|  NULL|      1|\n",
            "| 286787|       2|NULL| NULL|NULL|           NULL|  NULL|          NULL|  NULL|   NULL|\n",
            "|9434999|    NULL|NULL| NULL|   1|           NULL|     1|          NULL|  NULL|   NULL|\n",
            "|3887649|    NULL|NULL| NULL|   2|              1|     2|          NULL|  NULL|   NULL|\n",
            "|5630056|    NULL|   1| NULL|NULL|           NULL|     3|          NULL|  NULL|      2|\n",
            "|2197256|    NULL|NULL| NULL|   1|           NULL|  NULL|          NULL|  NULL|   NULL|\n",
            "|5524472|       1|NULL| NULL|   1|           NULL|  NULL|          NULL|  NULL|   NULL|\n",
            "|7985491|    NULL|   1| NULL|NULL|           NULL|  NULL|          NULL|  NULL|      1|\n",
            "| 597388|    NULL|NULL| NULL|   6|              2|     4|          NULL|  NULL|      1|\n",
            "| 952471|    NULL|   1| NULL|   1|           NULL|  NULL|          NULL|  NULL|   NULL|\n",
            "|3759682|       1|NULL| NULL|NULL|           NULL|     1|          NULL|  NULL|   NULL|\n",
            "|9369511|    NULL|NULL| NULL|NULL|           NULL|  NULL|          NULL|  NULL|      1|\n",
            "| 667560|       1|NULL| NULL|   1|              2|  NULL|          NULL|  NULL|   NULL|\n",
            "|3251696|    NULL|NULL| NULL|   1|           NULL|     3|          NULL|  NULL|      1|\n",
            "|4088260|    NULL|NULL| NULL|   1|           NULL|  NULL|          NULL|  NULL|      1|\n",
            "|4498724|    NULL|NULL| NULL|NULL|           NULL|     1|          NULL|  NULL|   NULL|\n",
            "|3062235|    NULL|NULL| NULL|   1|           NULL|  NULL|          NULL|  NULL|   NULL|\n",
            "| 554287|       1|   1| NULL|   3|           NULL|     1|          NULL|  NULL|   NULL|\n",
            "|3102061|    NULL|NULL| NULL|NULL|           NULL|     1|          NULL|  NULL|   NULL|\n",
            "|6126650|       1|NULL| NULL|NULL|           NULL|     2|          NULL|  NULL|   NULL|\n",
            "+-------+--------+----+-----+----+---------------+------+--------------+------+-------+\n",
            "only showing top 20 rows\n",
            "\n"
          ]
        }
      ],
      "source": [
        "user_category_profile.show()"
      ]
    },
    {
      "cell_type": "code",
      "execution_count": 22,
      "metadata": {
        "colab": {
          "base_uri": "https://localhost:8080/"
        },
        "id": "v9k5q94d5lSn",
        "outputId": "993cc9c7-eb52-4431-be68-b682cf915207"
      },
      "outputs": [
        {
          "name": "stdout",
          "output_type": "stream",
          "text": [
            "+-------+--------+----+-----+----+---------------+------+--------------+------+-------+\n",
            "|  user1|Activity|Cash|Event|Food|Illegal/Sarcasm|People|Transportation|Travel|Utility|\n",
            "+-------+--------+----+-----+----+---------------+------+--------------+------+-------+\n",
            "|2623417|       2|   0|    0|   1|              1|     0|             0|     0|      1|\n",
            "| 286787|       2|   0|    0|   0|              0|     0|             0|     0|      0|\n",
            "|9434999|       0|   0|    0|   1|              0|     1|             0|     0|      0|\n",
            "|3887649|       0|   0|    0|   2|              1|     2|             0|     0|      0|\n",
            "|5630056|       0|   1|    0|   0|              0|     3|             0|     0|      2|\n",
            "|2197256|       0|   0|    0|   1|              0|     0|             0|     0|      0|\n",
            "|5524472|       1|   0|    0|   1|              0|     0|             0|     0|      0|\n",
            "|7985491|       0|   1|    0|   0|              0|     0|             0|     0|      1|\n",
            "| 597388|       0|   0|    0|   6|              2|     4|             0|     0|      1|\n",
            "| 952471|       0|   1|    0|   1|              0|     0|             0|     0|      0|\n",
            "|3759682|       1|   0|    0|   0|              0|     1|             0|     0|      0|\n",
            "|9369511|       0|   0|    0|   0|              0|     0|             0|     0|      1|\n",
            "| 667560|       1|   0|    0|   1|              2|     0|             0|     0|      0|\n",
            "|3251696|       0|   0|    0|   1|              0|     3|             0|     0|      1|\n",
            "|4088260|       0|   0|    0|   1|              0|     0|             0|     0|      1|\n",
            "|4498724|       0|   0|    0|   0|              0|     1|             0|     0|      0|\n",
            "|3062235|       0|   0|    0|   1|              0|     0|             0|     0|      0|\n",
            "| 554287|       1|   1|    0|   3|              0|     1|             0|     0|      0|\n",
            "|3102061|       0|   0|    0|   0|              0|     1|             0|     0|      0|\n",
            "|6126650|       1|   0|    0|   0|              0|     2|             0|     0|      0|\n",
            "+-------+--------+----+-----+----+---------------+------+--------------+------+-------+\n",
            "only showing top 20 rows\n",
            "\n"
          ]
        }
      ],
      "source": [
        "# Fill NaN values with 0 for categories that are not present for a user\n",
        "user_category_profile = user_category_profile.fillna(0)\n",
        "user_category_profile.show()"
      ]
    },
    {
      "cell_type": "code",
      "execution_count": 23,
      "metadata": {
        "id": "GkbP1Ajz5lYn"
      },
      "outputs": [],
      "source": [
        "from pyspark.sql import functions as F\n",
        "\n",
        "# Calculate the total number of transactions per user\n",
        "total_transactions_per_user = user_category_count.groupBy(\"user1\").agg(F.sum(\"count\").alias(\"total_transactions\"))"
      ]
    },
    {
      "cell_type": "code",
      "execution_count": 24,
      "metadata": {
        "id": "SrqxTS_G7Gqv"
      },
      "outputs": [],
      "source": [
        "# Join total transactions with user category profile\n",
        "user_category_profile = user_category_profile.join(total_transactions_per_user, on=\"user1\")"
      ]
    },
    {
      "cell_type": "code",
      "execution_count": 25,
      "metadata": {
        "id": "oKhN8Ndx7Guj"
      },
      "outputs": [],
      "source": [
        "# Calculate proportions\n",
        "\n",
        "# Define the category columns\n",
        "category_columns = [\"Activity\", \"Cash\", \"Event\", \"Food\", \"Illegal/Sarcasm\", \"People\", \"Transportation\", \"Travel\", \"Utility\"]\n",
        "\n",
        "for category in category_columns:\n",
        "    user_category_profile = user_category_profile.withColumn(category, (col(category) / col(\"total_transactions\")))\n",
        "\n",
        "# Drop the total_transactions column\n",
        "user_category_profile = user_category_profile.drop(\"total_transactions\")"
      ]
    },
    {
      "cell_type": "code",
      "execution_count": 26,
      "metadata": {
        "colab": {
          "base_uri": "https://localhost:8080/"
        },
        "id": "ELiFfRqpLbNF",
        "outputId": "0abf33ac-3712-4bfb-f5f1-ab423175068a"
      },
      "outputs": [
        {
          "name": "stdout",
          "output_type": "stream",
          "text": [
            "+-----+-------------------+-------------------+-------------------+-------------------+-------------------+-------------------+-------------------+------------------+-------------------+\n",
            "|user1|Activity           |Cash               |Event              |Food               |Illegal/Sarcasm    |People             |Transportation     |Travel            |Utility            |\n",
            "+-----+-------------------+-------------------+-------------------+-------------------+-------------------+-------------------+-------------------+------------------+-------------------+\n",
            "|3    |0.0                |0.0                |0.0                |0.5                |0.0                |0.5                |0.0                |0.0               |0.0                |\n",
            "|12   |0.5                |0.0                |0.0                |0.0                |0.0                |0.0                |0.0                |0.0               |0.5                |\n",
            "|13   |0.125              |0.0                |0.0625             |0.25               |0.0625             |0.25               |0.125              |0.0               |0.125              |\n",
            "|16   |0.5                |0.0                |0.0                |0.5                |0.0                |0.0                |0.0                |0.0               |0.0                |\n",
            "|19   |0.0                |0.0                |0.5                |0.5                |0.0                |0.0                |0.0                |0.0               |0.0                |\n",
            "|28   |0.0                |0.0                |0.0                |1.0                |0.0                |0.0                |0.0                |0.0               |0.0                |\n",
            "|34   |0.0                |0.0                |0.0                |0.6666666666666666 |0.0                |0.0                |0.0                |0.3333333333333333|0.0                |\n",
            "|43   |0.3                |0.0                |0.0                |0.2                |0.2                |0.2                |0.0                |0.1               |0.0                |\n",
            "|47   |0.0                |0.2                |0.2                |0.2                |0.2                |0.2                |0.0                |0.0               |0.0                |\n",
            "|52   |0.0                |0.0                |0.0                |1.0                |0.0                |0.0                |0.0                |0.0               |0.0                |\n",
            "|112  |0.0                |0.0                |1.0                |0.0                |0.0                |0.0                |0.0                |0.0               |0.0                |\n",
            "|126  |1.0                |0.0                |0.0                |0.0                |0.0                |0.0                |0.0                |0.0               |0.0                |\n",
            "|164  |1.0                |0.0                |0.0                |0.0                |0.0                |0.0                |0.0                |0.0               |0.0                |\n",
            "|225  |0.0                |0.0                |0.0                |0.0                |0.0                |0.0                |0.0                |0.0               |1.0                |\n",
            "|243  |0.14285714285714285|0.0                |0.14285714285714285|0.2857142857142857 |0.0                |0.0                |0.0                |0.0               |0.42857142857142855|\n",
            "|406  |0.0                |0.0                |0.0                |0.0                |0.0                |0.0                |1.0                |0.0               |0.0                |\n",
            "|723  |1.0                |0.0                |0.0                |0.0                |0.0                |0.0                |0.0                |0.0               |0.0                |\n",
            "|747  |0.18181818181818182|0.09090909090909091|0.0                |0.18181818181818182|0.09090909090909091|0.09090909090909091|0.18181818181818182|0.0               |0.18181818181818182|\n",
            "|787  |1.0                |0.0                |0.0                |0.0                |0.0                |0.0                |0.0                |0.0               |0.0                |\n",
            "|830  |0.0                |0.0                |0.0                |1.0                |0.0                |0.0                |0.0                |0.0               |0.0                |\n",
            "+-----+-------------------+-------------------+-------------------+-------------------+-------------------+-------------------+-------------------+------------------+-------------------+\n",
            "only showing top 20 rows\n",
            "\n"
          ]
        }
      ],
      "source": [
        "# Show the result\n",
        "user_category_profile.show(truncate=False)"
      ]
    },
    {
      "cell_type": "markdown",
      "metadata": {
        "id": "sqUtqpaLjaeT"
      },
      "source": [
        "#### 1.5 Explore user's dynamic spending profile"
      ]
    },
    {
      "cell_type": "markdown",
      "metadata": {
        "id": "IWHfLo6TWaOt"
      },
      "source": [
        "Step 1: Create a Monthly Interval Column"
      ]
    },
    {
      "cell_type": "code",
      "execution_count": 27,
      "metadata": {
        "id": "910WCEz2Pqn7"
      },
      "outputs": [],
      "source": [
        "from pyspark.sql import Window\n",
        "from pyspark.sql.functions import col, min, datediff, months_between, year, month\n",
        "\n",
        "# Convert datetime column to date type\n",
        "data = data.withColumn(\"date\", col(\"datetime\").cast(\"date\"))\n",
        "\n",
        "# Find the first transaction date for each user\n",
        "window_spec = Window.partitionBy(\"user1\")\n",
        "data = data.withColumn(\"first_date\", min(\"date\").over(window_spec))\n",
        "\n",
        "# Calculate the number of months since the first transaction\n",
        "data = data.withColumn(\"month\", ((year(col(\"date\")) - year(col(\"first_date\"))) * 12 +\n",
        "                       (month(col(\"date\")) - month(col(\"first_date\")))))\n",
        "\n",
        "# Filter to only include the first 12 months\n",
        "data = data.filter(col(\"month\") <= 12)"
      ]
    },
    {
      "cell_type": "markdown",
      "metadata": {
        "id": "1YWqaXSkWgdi"
      },
      "source": [
        "Step 2: Classify Each Transaction into Categories"
      ]
    },
    {
      "cell_type": "code",
      "execution_count": 28,
      "metadata": {
        "id": "uO7xvfXYPqrL"
      },
      "outputs": [],
      "source": [
        "# Extract and classify emojis and text as before\n",
        "data = data.withColumn(\"emojis\", extract_emojis_udf(col(\"description\")))\n",
        "data = data.withColumn(\"text\", remove_emojis_udf(col(\"description\")))\n",
        "\n",
        "data = data.withColumn(\"emoji_categories\", classify_emojis_udf(col(\"emojis\")))\n",
        "data = data.withColumn(\"word_categories\", classify_words_udf(col(\"text\")))\n",
        "\n",
        "# Combine classifications\n",
        "data = data.withColumn(\"combined_categories\", array_union(col(\"emoji_categories\"), col(\"word_categories\")))"
      ]
    },
    {
      "cell_type": "markdown",
      "metadata": {
        "id": "qUdcrwdYWtog"
      },
      "source": [
        "Step 3: Calculate the Spending Profile for Each User at Each Month"
      ]
    },
    {
      "cell_type": "code",
      "execution_count": 29,
      "metadata": {
        "colab": {
          "base_uri": "https://localhost:8080/"
        },
        "id": "ZgLmRtaEPqut",
        "outputId": "8b031be1-3868-4f2e-ac86-953e8f1ae14f"
      },
      "outputs": [
        {
          "name": "stdout",
          "output_type": "stream",
          "text": [
            "+-----+-----+--------+------------------+-----+----+------------------+------------------+--------------+------+-------+\n",
            "|user1|month|Activity|Cash              |Event|Food|Illegal/Sarcasm   |People            |Transportation|Travel|Utility|\n",
            "+-----+-----+--------+------------------+-----+----+------------------+------------------+--------------+------+-------+\n",
            "|3    |0    |0.0     |0.0               |0.0  |0.0 |0.0               |1.0               |0.0           |0.0   |0.0    |\n",
            "|3    |1    |0.0     |0.0               |0.0  |1.0 |0.0               |0.0               |0.0           |0.0   |0.0    |\n",
            "|4    |0    |0.0     |0.0               |0.0  |0.5 |0.5               |0.0               |0.0           |0.0   |0.0    |\n",
            "|11   |3    |0.0     |0.0               |1.0  |0.0 |0.0               |0.0               |0.0           |0.0   |0.0    |\n",
            "|11   |5    |0.5     |0.0               |0.0  |0.0 |0.0               |0.0               |0.0           |0.0   |0.5    |\n",
            "|12   |0    |1.0     |0.0               |0.0  |0.0 |0.0               |0.0               |0.0           |0.0   |0.0    |\n",
            "|13   |0    |0.0     |0.0               |1.0  |0.0 |0.0               |0.0               |0.0           |0.0   |0.0    |\n",
            "|13   |5    |0.0     |0.0               |0.0  |0.0 |0.0               |1.0               |0.0           |0.0   |0.0    |\n",
            "|28   |0    |0.0     |0.0               |0.0  |1.0 |0.0               |0.0               |0.0           |0.0   |0.0    |\n",
            "|34   |0    |0.0     |0.0               |0.0  |1.0 |0.0               |0.0               |0.0           |0.0   |0.0    |\n",
            "|34   |2    |0.0     |0.0               |0.0  |0.0 |0.0               |0.0               |0.0           |1.0   |0.0    |\n",
            "|34   |3    |0.0     |0.0               |0.0  |1.0 |0.0               |0.0               |0.0           |0.0   |0.0    |\n",
            "|42   |0    |0.0     |0.0               |0.0  |0.5 |0.5               |0.0               |0.0           |0.0   |0.0    |\n",
            "|42   |1    |0.0     |0.0               |0.5  |0.0 |0.0               |0.5               |0.0           |0.0   |0.0    |\n",
            "|43   |0    |0.0     |0.0               |0.0  |1.0 |0.0               |0.0               |0.0           |0.0   |0.0    |\n",
            "|43   |1    |0.0     |0.0               |0.0  |0.0 |0.5               |0.5               |0.0           |0.0   |0.0    |\n",
            "|43   |7    |0.0     |0.0               |0.0  |0.0 |0.0               |0.0               |0.0           |1.0   |0.0    |\n",
            "|47   |0    |0.0     |0.0               |0.5  |0.5 |0.0               |0.0               |0.0           |0.0   |0.0    |\n",
            "|47   |12   |0.0     |0.3333333333333333|0.0  |0.0 |0.3333333333333333|0.3333333333333333|0.0           |0.0   |0.0    |\n",
            "|52   |0    |0.0     |0.0               |0.0  |1.0 |0.0               |0.0               |0.0           |0.0   |0.0    |\n",
            "+-----+-----+--------+------------------+-----+----+------------------+------------------+--------------+------+-------+\n",
            "only showing top 20 rows\n",
            "\n"
          ]
        }
      ],
      "source": [
        "# Explode the combined_categories to get one category per row\n",
        "exploded_data = data.select(\"user1\", \"month\", explode(col(\"combined_categories\")).alias(\"category\"))\n",
        "\n",
        "# Group by user, month, and category, and count the occurrences\n",
        "user_monthly_category_count = exploded_data.groupBy(\"user1\", \"month\", \"category\").count()\n",
        "\n",
        "# Pivot the data to get categories as columns\n",
        "user_monthly_profile = user_monthly_category_count.groupBy(\"user1\", \"month\").pivot(\"category\").sum(\"count\")\n",
        "\n",
        "# Fill NaN values with 0 for categories that are not present for a user\n",
        "user_monthly_profile = user_monthly_profile.fillna(0)\n",
        "\n",
        "# Calculate the total number of transactions per user per month\n",
        "total_transactions_per_user_month = user_monthly_category_count.groupBy(\"user1\", \"month\").agg(F.sum(\"count\").alias(\"total_transactions\"))\n",
        "\n",
        "# Join total transactions with user category profile\n",
        "user_monthly_profile = user_monthly_profile.join(total_transactions_per_user_month, on=[\"user1\", \"month\"])\n",
        "\n",
        "# Calculate the proportion of each category\n",
        "category_columns = [column for column in user_monthly_profile.columns if column not in [\"user1\", \"month\", \"total_transactions\"]]\n",
        "\n",
        "# Calculate proportion\n",
        "for category in category_columns:\n",
        "    user_monthly_profile = user_monthly_profile.withColumn(category, col(category) / col(\"total_transactions\"))\n",
        "\n",
        "# Drop the total_transactions column\n",
        "user_monthly_profile = user_monthly_profile.drop(\"total_transactions\")\n",
        "\n",
        "# Order by user and month\n",
        "user_monthly_profile = user_monthly_profile.orderBy(\"user1\", \"month\")\n",
        "\n",
        "# Show the result\n",
        "user_monthly_profile.show(truncate=False)"
      ]
    },
    {
      "cell_type": "markdown",
      "metadata": {
        "id": "fAfpYLLOWxbi"
      },
      "source": [
        "Step 4: Compute the Average and Standard Deviation of Each Spending Category Across All Users"
      ]
    },
    {
      "cell_type": "code",
      "execution_count": null,
      "metadata": {
        "colab": {
          "base_uri": "https://localhost:8080/"
        },
        "id": "kKmIOrNaPqwS",
        "outputId": "6b60d6a5-87df-448a-b25f-1cd961eab175"
      },
      "outputs": [
        {
          "name": "stdout",
          "output_type": "stream",
          "text": [
            "+-----+-------------------+--------------------+--------------------+-------------------+--------------------+-------------------+-------------------+--------------------+-------------------+-------------------+-------------------+-------------------+-------------------+----------------------+-------------------+---------------------+-------------------+-------------------+\n",
            "|month|Activity_avg       |Cash_avg            |Event_avg           |Food_avg           |Illegal/Sarcasm_avg |People_avg         |Transportation_avg |Travel_avg          |Utility_avg        |Activity_stddev    |Cash_stddev        |Event_stddev       |Food_stddev        |Illegal/Sarcasm_stddev|People_stddev      |Transportation_stddev|Travel_stddev      |Utility_stddev     |\n",
            "+-----+-------------------+--------------------+--------------------+-------------------+--------------------+-------------------+-------------------+--------------------+-------------------+-------------------+-------------------+-------------------+-------------------+----------------------+-------------------+---------------------+-------------------+-------------------+\n",
            "|12   |0.15232001339987764|0.03156711959753165 |0.033950479555386194|0.3331177637215303 |0.05176290086440299 |0.18105769455753606|0.06743194692355865|0.03120171994812244 |0.11759036143205379|0.3406480798792113 |0.16160086647142047|0.1708727005588509 |0.4530859094715835 |0.2076218174498622    |0.36628118257776543|0.23857737304695492  |0.1650105352846088 |0.30783939890976925|\n",
            "|1    |0.15238098966566951|0.03131984670512459 |0.03331204375933357 |0.31946397749395095|0.0647806689176695  |0.1976798341376888 |0.06048942157979828|0.029673900399095607|0.11089931734166908|0.3409949295243393 |0.16130843046557256|0.16956171256486333|0.4493016820555999 |0.23205751261571309   |0.37966522304691847|0.22736104902176438  |0.1612889299621407 |0.3013263116805177 |\n",
            "|6    |0.15056023909584595|0.03053717286818648 |0.03298217183515523 |0.3258292322803628 |0.05770285104013723 |0.1926489517119579 |0.06378453832329754|0.03059806159387984 |0.1153567812511765 |0.3387338081557036 |0.15950741911406505|0.16828560721529645|0.4513077983126137 |0.2185919317570606    |0.3754860271626933 |0.2330330678003976   |0.16375219489313408|0.3062350002518997 |\n",
            "|3    |0.14956469351963017|0.030881691709896714|0.03416538598339697 |0.31930111324372007|0.06216808492551908 |0.1981032465600504 |0.05982103709619331|0.029820626047196257|0.11617412091439669|0.33809611509004595|0.16011508615120382|0.1708355952334665 |0.44918101669544097|0.22645965657641243   |0.3797462987022525 |0.22601255049257227  |0.16197290560300628|0.3075011995576773 |\n",
            "|5    |0.1500767778221854 |0.030827830584855283|0.033468005861875205|0.320827454081013  |0.06039904097713364 |0.19455259758689894|0.06244678745682276|0.03069085559050284 |0.11671065003871235|0.3383199041023904 |0.16030047136424555|0.16951702199064356|0.4490574337956353 |0.2240302762370695    |0.3770887571406659 |0.23068719900281798  |0.16419713298730287|0.30801620725769185|\n",
            "|9    |0.1457972678720381 |0.030245768740498412|0.03504410909734335 |0.3264316227742335 |0.05498593492147742 |0.18770322142658474|0.06567810289354235|0.030820938370039772|0.12329303390424194|0.3340646868875072 |0.15879899855155447|0.17315653976123604|0.45068961213876796|0.21429031925994718   |0.3717092916217859 |0.2359493894715558   |0.16462958184067797|0.31483482495562215|\n",
            "|4    |0.14875763078194063|0.03050659753558303 |0.033608539055009344|0.3223438847094771 |0.06058062632396432 |0.19619119257969095|0.06120260771382794|0.030391235563044818|0.11641768573746131|0.3374353199902944 |0.15956807235298046|0.17021113756094364|0.4499719150713059 |0.22428681280685964   |0.37852320904107734|0.22846106402593575  |0.16390366833288014|0.30793068768446313|\n",
            "|8    |0.1481521931153537 |0.030558830608806348|0.035060946587847794|0.3292400859636063 |0.055707183103519076|0.18816709713167085|0.06347475897194606|0.03066563247511075 |0.11897327204213867|0.3371770887837048 |0.1595365302226815 |0.17405311596252088|0.45200917003365276|0.21497320930087585   |0.3726433979233573 |0.23234717858280726  |0.1634756487698843 |0.3103806732694972 |\n",
            "|7    |0.1485900506627641 |0.031208137860218532|0.03357973821471287 |0.325720400258327  |0.05663059726664425 |0.19270396401928583|0.06533115525687912|0.028999987810841926|0.11723596865032611|0.33705615702406727|0.1608269535720879 |0.16973372327994102|0.451029704386071  |0.21704506380948932   |0.37562433288984515|0.23568777103654917  |0.15921800657287274|0.30818505828112663|\n",
            "|10   |0.1452304681784346 |0.030615706918534505|0.033972748415613985|0.3308453964940965 |0.0558201929843077  |0.1848481427193921 |0.0660004272812218 |0.031127310866026884|0.12153960614237139|0.3334347603765601 |0.15951564118226472|0.17083334221891744|0.45208817504303433|0.21603057832598713   |0.36955779782132153|0.2361494664712463   |0.1650827195470311 |0.3123251571653261 |\n",
            "|11   |0.14810182729262894|0.030865859831953897|0.03474582249424953 |0.3316509647367038 |0.05144864766231982 |0.1843363373886189 |0.06711055389897902|0.03283481474083691 |0.1189051719537087 |0.335892609365107  |0.16076000832904583|0.17211297451308366|0.4523980761854741 |0.20706755872483873   |0.36929857587672915|0.2380087012837451   |0.16887505746091308|0.3092936539810437 |\n",
            "|2    |0.14924809571850192|0.03121409622026142 |0.034108564062324806|0.3204418680374303 |0.061785322842659515|0.19702265298751073|0.06084179828939387|0.030204088622707594|0.11513351321920982|0.33769632325258897|0.1611353150842535 |0.1717422574729377 |0.4496450953791021 |0.22637423016784042   |0.3795148252707209 |0.22813634795455215  |0.16312288088654595|0.3064477787323608 |\n",
            "|0    |0.18324338372799687|0.034424794809820324|0.03700815218236106 |0.2973008080921772 |0.06461243447935457 |0.18689207191603804|0.05679894003073253|0.0334442085915784  |0.10627520616993853|0.36937023485139564|0.17041088005328942|0.17904131983306046|0.443148421368912  |0.23260323522558368   |0.37263329649589594|0.22209954876569835  |0.17238202914723508|0.2974340259034247 |\n",
            "+-----+-------------------+--------------------+--------------------+-------------------+--------------------+-------------------+-------------------+--------------------+-------------------+-------------------+-------------------+-------------------+-------------------+----------------------+-------------------+---------------------+-------------------+-------------------+\n",
            "\n"
          ]
        }
      ],
      "source": [
        "# Calculate the average and standard deviation for each category across all users at each month\n",
        "from pyspark.sql.functions import avg, stddev\n",
        "\n",
        "monthly_avg_stddev = user_monthly_profile.groupBy(\"month\").agg(\n",
        "    *(avg(col(category)).alias(f\"{category}_avg\") for category in category_columns),\n",
        "    *(stddev(col(category)).alias(f\"{category}_stddev\") for category in category_columns)\n",
        ")\n",
        "\n",
        "monthly_avg_stddev.show(truncate=False)"
      ]
    },
    {
      "cell_type": "markdown",
      "metadata": {
        "id": "ozWY53HpW3B-"
      },
      "source": [
        "Step 5: Plot the Spending Profiles"
      ]
    },
    {
      "cell_type": "code",
      "execution_count": null,
      "metadata": {
        "colab": {
          "base_uri": "https://localhost:8080/",
          "height": 718
        },
        "id": "uq9T5i-XW5Vj",
        "outputId": "461f04c2-98b1-4787-c987-b5c21183d784"
      },
      "outputs": [
        {
          "data": {
            "image/png": "[encoded data removed]",
            "text/plain": [
              "<Figure size 1200x800 with 1 Axes>"
            ]
          },
          "metadata": {},
          "output_type": "display_data"
        }
      ],
      "source": [
        "import matplotlib.pyplot as plt\n",
        "\n",
        "# Convert to Pandas for plotting\n",
        "monthly_avg_stddev_pd = monthly_avg_stddev.toPandas()\n",
        "\n",
        "# Plotting\n",
        "fig, ax = plt.subplots(figsize=(12, 8))\n",
        "months = monthly_avg_stddev_pd[\"month\"]\n",
        "\n",
        "for category in category_columns:\n",
        "    avg_col = f\"{category}_avg\"\n",
        "    stddev_col = f\"{category}_stddev\"\n",
        "\n",
        "    ax.plot(months, monthly_avg_stddev_pd[avg_col], label=f\"{category} Avg\")\n",
        "    ax.fill_between(months,\n",
        "                    monthly_avg_stddev_pd[avg_col] - 2 * monthly_avg_stddev_pd[stddev_col],\n",
        "                    monthly_avg_stddev_pd[avg_col] + 2 * monthly_avg_stddev_pd[stddev_col],\n",
        "                    alpha=0.2)\n",
        "\n",
        "ax.set_xlabel(\"Months\")\n",
        "ax.set_ylabel(\"Proportion\")\n",
        "ax.set_title(\"Spending Profile of the Average User Over Time\")\n",
        "ax.legend()\n",
        "plt.show()"
      ]
    },
    {
      "cell_type": "markdown",
      "metadata": {
        "id": "OgNjwAetW7tX"
      },
      "source": [
        "> #### __Observations:__  \n",
        "The plot shows the spending profile of the average user over the first 12 months.\n",
        "The Food Avg category seems to be consistently higher than the other categories.\n",
        "Most categories remain relatively stable with slight fluctuations.\n",
        "Confidence intervals are large, indicating significant variation in spending habits among users.\n",
        "There is a clear indication that the average spending proportions do not stabilize completely but show a general trend."
      ]
    },
    {
      "cell_type": "markdown",
      "metadata": {
        "id": "b-S4jV2Kfg5u"
      },
      "source": [
        "---"
      ]
    },
    {
      "cell_type": "markdown",
      "metadata": {
        "id": "K1IWZVLFfiEj"
      },
      "source": [
        "### __2. Social Network Analytics__"
      ]
    },
    {
      "cell_type": "markdown",
      "metadata": {
        "id": "HqBopJ3Nw4DX"
      },
      "source": [
        "#### 2.1 Find Friend and Friend of Friend"
      ]
    },
    {
      "cell_type": "code",
      "execution_count": 30,
      "metadata": {
        "id": "gQvkzccoPnTo"
      },
      "outputs": [],
      "source": [
        "# import packages\n",
        "import re\n",
        "import pandas as pd\n",
        "from google.colab import drive\n",
        "from pyspark.sql import SparkSession\n",
        "from pyspark.sql.functions import lit, col, udf, explode, array_contains, split, size, array_union, when, collect_set\n",
        "from pyspark.sql.types import ArrayType, StringType"
      ]
    },
    {
      "cell_type": "code",
      "execution_count": 31,
      "metadata": {
        "colab": {
          "base_uri": "https://localhost:8080/"
        },
        "id": "G8MmkNEn--AN",
        "outputId": "d4ac809f-c07b-4cbd-a851-0fd4af51c4b4"
      },
      "outputs": [
        {
          "name": "stdout",
          "output_type": "stream",
          "text": [
            "+--------+-------+----------------+-------------------+--------------------+-----------+--------------------+\n",
            "|   user1|  user2|transaction_type|           datetime|         description|is_business|            story_id|\n",
            "+--------+-------+----------------+-------------------+--------------------+-----------+--------------------+\n",
            "| 1218774|1528945|         payment|2015-11-27 10:48:19|                Uber|      false|5657c473cd03c9af2...|\n",
            "| 5109483|4782303|         payment|2015-06-17 11:37:04|              Costco|      false|5580f9702b64f70ab...|\n",
            "| 4322148|3392963|         payment|2015-06-19 07:05:31|        Sweaty balls|      false|55835ccb1a624b14a...|\n",
            "|  469894|1333620|          charge|2016-06-03 23:34:13|                  🎥|      false|5751b185cd03c9af2...|\n",
            "| 2960727|3442373|         payment|2016-05-29 23:23:42|                   ⚡|      false|574b178ecd03c9af2...|\n",
            "| 3977544|2709470|         payment|2016-09-29 22:12:07|          Chipotlaid|      false|57ed2f4723e064eac...|\n",
            "| 3766386|4209061|         payment|2016-05-20 10:31:15|     kitchen counter|      false|573e8503cd03c9af2...|\n",
            "|  730075| 804466|         payment|2016-05-26 04:46:45|                Food|      false|57461d46cd03c9af2...|\n",
            "| 5221751|4993533|         payment|2016-07-14 22:53:49|               Zaxby|      false|5787b58d23e064eac...|\n",
            "| 6843582|7308338|         payment|2016-08-31 10:32:46|           Fan sucks|      false|57c64fdf23e064eac...|\n",
            "| 5317324|3942984|         payment|2016-01-04 09:11:25|                  👠|      false|5689c6bdcd03c9af2...|\n",
            "| 1134661|1556430|         payment|2015-10-09 01:53:52|         Thanks babe|      false|5616bbc0cd03c9af2...|\n",
            "| 4238868|4879587|         payment|2015-10-04 08:28:01|                  🍺|      false|561080a1cd03c9af2...|\n",
            "|11719500|8702716|         payment|2016-07-07 21:40:39|                   ⛽|      false|577e69e723e064eac...|\n",
            "| 3625798|5692302|         payment|2016-10-16 14:43:41|Hey man  it's bee...|      false|58032fad23e064eac...|\n",
            "|  613908|3045405|          charge|2016-05-07 06:42:17|         Getaway car|      false|572d2bd9cd03c9af2...|\n",
            "| 4682257|1870271|         payment|2016-02-24 09:14:12|     🔮 gypsy things|      false|56cd03e4cd03c9af2...|\n",
            "| 9414481|2869012|         payment|2016-04-09 09:19:46|                  🔴|      false|570866c2cd03c9af2...|\n",
            "|  241386|2580543|         payment|2015-05-17 06:00:19|           Furniture|      false|5557cc0407f81c33e...|\n",
            "|  656477| 656214|          charge|2013-12-14 22:43:27|bed bath mostly b...|      false|52ac6e93d56b6bac5...|\n",
            "+--------+-------+----------------+-------------------+--------------------+-----------+--------------------+\n",
            "only showing top 20 rows\n",
            "\n"
          ]
        }
      ],
      "source": [
        "# Load the dataset\n",
        "venmo_df = spark.read.parquet(parquet_file_path, header=True, inferSchema=True)\n",
        "venmo_df.show(20)"
      ]
    },
    {
      "cell_type": "code",
      "execution_count": 32,
      "metadata": {
        "id": "2kONwQkiyets"
      },
      "outputs": [],
      "source": [
        "# Step 1: Identify Direct Friends\n",
        "# Union the user1 and user2 columns to find all unique user pairs\n",
        "friends_df = venmo_df.select(col(\"user1\").alias(\"user\"), col(\"user2\").alias(\"friend\")).union(\n",
        "    venmo_df.select(col(\"user2\").alias(\"user\"), col(\"user1\").alias(\"friend\"))\n",
        ").distinct()\n",
        "\n",
        "# Step 2: Identify Friends of Friends\n",
        "# Self-join to find friends of friends\n",
        "friends_of_friends_df = friends_df.alias(\"df1\").join(\n",
        "    friends_df.alias(\"df2\"),\n",
        "    col(\"df1.friend\") == col(\"df2.user\")\n",
        ").select(\n",
        "    col(\"df1.user\"),\n",
        "    col(\"df2.friend\").alias(\"friend_of_friend\")\n",
        ").distinct()\n",
        "\n",
        "# Collect friends and friends of friends for each user\n",
        "user_friends_df = friends_df.groupBy(\"user\").agg(\n",
        "    collect_set(\"friend\").alias(\"friends\")\n",
        ")\n",
        "\n",
        "user_fof_df = friends_of_friends_df.groupBy(\"user\").agg(\n",
        "    collect_set(\"friend_of_friend\").alias(\"friends_of_friends\")\n",
        ")\n",
        "\n",
        "# Combine friends and friends of friends into a single DataFrame\n",
        "user_network_df = user_friends_df.join(\n",
        "    user_fof_df, on=\"user\", how=\"left\"\n",
        ").select(\n",
        "    col(\"user\"),\n",
        "    array_union(col(\"friends\"), col(\"friends_of_friends\")).alias(\"network\")\n",
        ")\n",
        "\n",
        "# Sort the DataFrames by user in ascending order\n",
        "user_friends_df = user_friends_df.orderBy(\"user\")\n",
        "user_fof_df = user_fof_df.orderBy(\"user\")\n",
        "user_network_df = user_network_df.orderBy(\"user\")"
      ]
    },
    {
      "cell_type": "code",
      "execution_count": 33,
      "metadata": {
        "colab": {
          "base_uri": "https://localhost:8080/"
        },
        "id": "VP2ac6uL_CZ0",
        "outputId": "72268016-3964-4e34-8fe6-fa30c7714750"
      },
      "outputs": [
        {
          "name": "stdout",
          "output_type": "stream",
          "text": [
            "+----+----------------------------------------------------------------------------------------------------------------------------------------------------------------------------------------------------------------------------------------------------------------------------------------------------------------------------------------------------------------------------------------------------------------------------------------------------------------------------------------------------------------------------------------------------------------------------------------------------------------------------------------------------------------------------------------------------------------------------------------------------------------------------------------------------------------------------------------------------------------------------------------------------------------------------------------------------------------------------------------------------------------------------------------------------------------------------------------------------------------------------------------------------------------------------------------------------------------------------------------------------------------------------------------------------------------------------------------------------------------------------------------------------------------------------------------------------------------------------------------------------------------------------------------------------------------------------------------------------------------------------------------------------------------------------------------------------------------------------------------------------------------------------------------------------------------------------------------------------------------------------------------------------------------------------------------------------------------------------------------------------------------------------------------------------------------------------------------+\n",
            "|user|network                                                                                                                                                                                                                                                                                                                                                                                                                                                                                                                                                                                                                                                                                                                                                                                                                                                                                                                                                                                                                                                                                                                                                                                                                                                                                                                                                                                                                                                                                                                                                                                                                                                                                                                                                                                                                                                                                                                                                                                                                                                                                 |\n",
            "+----+----------------------------------------------------------------------------------------------------------------------------------------------------------------------------------------------------------------------------------------------------------------------------------------------------------------------------------------------------------------------------------------------------------------------------------------------------------------------------------------------------------------------------------------------------------------------------------------------------------------------------------------------------------------------------------------------------------------------------------------------------------------------------------------------------------------------------------------------------------------------------------------------------------------------------------------------------------------------------------------------------------------------------------------------------------------------------------------------------------------------------------------------------------------------------------------------------------------------------------------------------------------------------------------------------------------------------------------------------------------------------------------------------------------------------------------------------------------------------------------------------------------------------------------------------------------------------------------------------------------------------------------------------------------------------------------------------------------------------------------------------------------------------------------------------------------------------------------------------------------------------------------------------------------------------------------------------------------------------------------------------------------------------------------------------------------------------------------+\n",
            "|2   |[220, 191142, 43, 49778, 3565, 892097, 96, 851628, 20639, 2, 3, 1491816, 316862, 10, 297967, 629, 19, 183628, 47104, 613769, 55895, 82697, 307603, 276439, 72106, 20530]                                                                                                                                                                                                                                                                                                                                                                                                                                                                                                                                                                                                                                                                                                                                                                                                                                                                                                                                                                                                                                                                                                                                                                                                                                                                                                                                                                                                                                                                                                                                                                                                                                                                                                                                                                                                                                                                                                                |\n",
            "|3   |[52, 1079020, 263437, 43, 567957, 7854140, 2382556, 1204190, 263468, 277545, 2, 14884139, 5561315, 316862, 3135797, 148035, 629, 19, 47104, 1028243, 1354887, 1400679, 525358, 55895, 521279, 307603, 225, 809443, 855452, 20530, 3565, 96, 1804420, 141210, 2087306, 1491816, 297967, 4402869, 2266248, 2047571, 4694550, 679648, 49778, 59208, 20639, 4153462, 1114544, 2210989, 3, 1745178, 4376570, 117793, 173334, 183628, 615598, 565575, 82697, 266763, 281136, 1708995, 276439, 1107915, 374536, 1375797, 331257, 10, 148049, 53860, 171598, 472894, 1327569, 2110371, 1092849, 147891, 1416613, 655009, 581123, 393813, 72106]                                                                                                                                                                                                                                                                                                                                                                                                                                                                                                                                                                                                                                                                                                                                                                                                                                                                                                                                                                                                                                                                                                                                                                                                                                                                                                                                                                                                                                                 |\n",
            "|4   |[122744, 9271982, 125755, 187560, 968271, 221578, 125527, 114204, 3247825, 2405, 664326, 1746662, 4, 1598403, 65679, 159614]                                                                                                                                                                                                                                                                                                                                                                                                                                                                                                                                                                                                                                                                                                                                                                                                                                                                                                                                                                                                                                                                                                                                                                                                                                                                                                                                                                                                                                                                                                                                                                                                                                                                                                                                                                                                                                                                                                                                                            |\n",
            "|6   |[4330489, 688883, 676003, 6190225, 1047359, 2959135, 6474049, 200497, 6627694, 66209, 4479211, 2566210, 6, 485, 6294075, 4882746, 3680332]                                                                                                                                                                                                                                                                                                                                                                                                                                                                                                                                                                                                                                                                                                                                                                                                                                                                                                                                                                                                                                                                                                                                                                                                                                                                                                                                                                                                                                                                                                                                                                                                                                                                                                                                                                                                                                                                                                                                              |\n",
            "|8   |[900433, 659067, 2734056, 6573431, 704469, 1234370, 8]                                                                                                                                                                                                                                                                                                                                                                                                                                                                                                                                                                                                                                                                                                                                                                                                                                                                                                                                                                                                                                                                                                                                                                                                                                                                                                                                                                                                                                                                                                                                                                                                                                                                                                                                                                                                                                                                                                                                                                                                                                  |\n",
            "|9   |[185494, 367955, 243, 755956, 2822812, 2667704, 315475, 635985, 2308096, 2261623, 3017566, 737443, 49411, 4095326, 252489, 5084319, 287908, 753661, 2480536, 2400322, 378439, 632142, 2171178, 1282623, 451476, 2240105, 135809, 213, 563082, 64051, 132913, 441736, 63980, 134104, 2466865, 1208816, 1617273, 623439, 2338423, 1144545, 9, 1315421, 1636766, 143953, 277590, 258651, 281954, 3160205, 196304, 251599, 1635619, 2338707, 183160, 2198859, 3248656, 601511, 1428029, 695629, 726786, 450376, 485010, 367091, 211271, 616948, 3314914, 1541697, 3152533, 1858840]                                                                                                                                                                                                                                                                                                                                                                                                                                                                                                                                                                                                                                                                                                                                                                                                                                                                                                                                                                                                                                                                                                                                                                                                                                                                                                                                                                                                                                                                                                         |\n",
            "|10  |[255, 13, 36523, 71056, 133032, 3844713, 43, 189467, 126820, 20639, 212813, 760161, 2017878, 2425863, 2614182, 160206, 2, 3, 316862, 629, 19, 3548, 717721, 49158, 183628, 47104, 149829, 55895, 82697, 307603, 276439, 4767862, 1875863, 20530, 3565, 96, 128281, 1941801, 7809614, 1491816, 297967, 10, 11, 64257, 58471, 1603, 699146, 66916, 22365, 933401, 55280, 72106, 49778]                                                                                                                                                                                                                                                                                                                                                                                                                                                                                                                                                                                                                                                                                                                                                                                                                                                                                                                                                                                                                                                                                                                                                                                                                                                                                                                                                                                                                                                                                                                                                                                                                                                                                                    |\n",
            "|11  |[149919, 6419, 52182, 148622, 118445, 171286, 133784, 60183, 51792, 50225, 183628, 29833, 27351, 862680, 273709, 42, 275, 57391, 41798, 160300, 179458, 54724, 146271, 119906, 13, 39917, 146274, 49778, 265225, 5517890, 369194, 222448, 479905, 187887, 73047, 359483, 521408, 134447, 3548, 418147, 271199, 2549950, 151175, 66945, 148837, 339037, 1851162, 526668, 541986, 195662, 320173, 310185, 47146, 203649, 276082, 64257, 8266471, 460975, 28332, 1176237, 532900, 217385, 457623, 6650157, 1192, 380474, 108761, 518394, 79609, 60162, 150620, 317946, 710491, 10843491, 313330, 43, 1934308, 1875863, 1153053, 225248, 347510, 216451, 10, 2591142, 53860, 65628, 49781, 515253, 55280, 635760, 259622, 850721, 156280, 30397, 409221, 12731459, 67921, 717721, 124713, 415867, 171251, 2408357, 43933, 239580, 220531, 4748533, 49780, 11, 99928, 216679, 58471, 144146, 223192, 61107, 11113594, 299654, 1009036, 131183, 179051, 192183, 862946, 293843, 499759, 967829, 363896, 2933343, 481045, 596961, 203104, 22792, 236439, 75270, 103402, 1135878, 158145, 128281, 550936, 685104, 217005, 463770, 947498, 689462, 1000382, 243875, 150021, 262743, 71302, 760161, 1069238, 84601, 688136, 1451614, 890629, 2999770, 46844, 263614, 492092, 365811, 67855, 72350, 619974, 88843, 187192, 86615, 15019738, 187288, 907951, 2617984, 306625, 212813, 246329, 571842, 166594, 32, 40292, 534335, 1905456, 402124, 99681, 1847419, 179214, 149829, 369264, 4767862, 62134, 1616143, 229968, 478859, 601469, 403124, 136791, 270703, 176006, 1098456, 802707, 126820, 118683, 11714655, 379313, 66374, 456631, 67696, 628146, 1349186, 66274, 1599828, 1918387, 5880203, 1307021, 2324, 54650, 108550, 1941801, 1283206, 271441, 855754, 295094, 522279, 194925, 69500, 158644, 783746, 980509, 160206, 406411, 1093550, 1221103, 711838, 399538, 182537, 117793, 2752706, 1591530, 812461, 268685, 1943126, 90297, 233668, 70219, 163523, 843439, 353215, 190999, 1350441, 154110, 112, 720775, 117342, 221825, 3053274, 454005, 1603, 150048, 142767, 699146, 40899]|\n",
            "|12  |[135778, 221813, 156, 746556, 1742822, 112, 295034, 26675, 326885, 459250, 292151, 1277014, 625489, 1384611, 267449, 211017, 4598683, 567875, 642596, 6573434, 2888717, 5829643, 20377, 2328260, 1033712, 211617, 1381932, 673821, 168919, 680739, 624408, 54724, 2187318, 354728, 12, 1936141, 285338, 213508, 519544, 341, 222155, 4570403, 6002943]                                                                                                                                                                                                                                                                                                                                                                                                                                                                                                                                                                                                                                                                                                                                                                                                                                                                                                                                                                                                                                                                                                                                                                                                                                                                                                                                                                                                                                                                                                                                                                                                                                                                                                                                  |\n",
            "|13  |[126820, 212813, 760161, 160206, 128281, 1941801, 10, 11, 64257, 3548, 717721, 58471, 149829, 1603, 699146, 4767862, 55280, 1875863, 149919, 6419, 263774, 52182, 379509, 3844713, 65866, 148622, 2559615, 417643, 171286, 1708948, 81867, 104348, 493851, 127876, 50225, 29833, 27351, 27097, 906, 306899, 42, 461622, 275, 132307, 269371, 36523, 492092, 173833, 394305, 307818, 119906, 276082, 13, 39917, 9387198, 217385, 254116, 135472, 822132, 133032, 351805, 146274, 49778, 255, 149920, 89755, 317521, 160562, 4326422, 669748, 499759, 518902, 118445, 133784, 890068, 2396290, 60183, 51792, 22792, 359709, 183628, 862680, 142831, 273709, 43, 310573, 41798, 57391, 434945, 137984, 276847, 747886, 160300, 62134, 113450, 71056, 179458, 654657, 192802, 1519901, 54724, 225354, 146271, 484531, 392884, 270703, 363041, 278434, 351854, 79110, 1014663]                                                                                                                                                                                                                                                                                                                                                                                                                                                                                                                                                                                                                                                                                                                                                                                                                                                                                                                                                                                                                                                                                                                                                                                                               |\n",
            "|16  |[433753, 1204210, 1079065, 615398, 60834, 1145, 35181, 1365163, 747, 47447, 167446, 1457073, 5434900, 1511377, 262054, 88049, 3721422, 630099, 109626, 4530642, 9294345, 234937, 1495441, 73420, 406300, 6044162, 2270564, 3204437, 158173, 623905, 3858141, 892803, 602628, 590818, 6539375, 666670, 844450, 5211006, 1376125, 957949, 3524537, 2673006, 3882042, 3131007, 1927199, 25688, 594183, 394270, 4420636, 730179, 121928, 27485, 9584819, 2742141, 4646961, 3935584, 68936, 49489, 577724, 338509, 262934, 1294656, 11133837, 761, 2037744, 1009, 3115127, 5533982, 1519072, 730188, 1410104, 16, 432007, 45910, 4738217, 1516859, 1738, 2529257, 177638, 6675, 125531, 3799874, 1351424, 979752, 652113, 29037, 107502, 1018415, 63917, 42119, 419113]                                                                                                                                                                                                                                                                                                                                                                                                                                                                                                                                                                                                                                                                                                                                                                                                                                                                                                                                                                                                                                                                                                                                                                                                                                                                                                                      |\n",
            "|18  |[334955, 3616520, 752035, 205163, 1761227, 3653441, 332582, 18, 217385, 149425]                                                                                                                                                                                                                                                                                                                                                                                                                                                                                                                                                                                                                                                                                                                                                                                                                                                                                                                                                                                                                                                                                                                                                                                                                                                                                                                                                                                                                                                                                                                                                                                                                                                                                                                                                                                                                                                                                                                                                                                                         |\n",
            "|19  |[54866, 54533, 54851, 43, 54858, 52568, 85471, 2502454, 1056745, 20639, 321354, 3814042, 2, 1228253, 3, 571488, 316862, 665589, 2654771, 19, 629, 276902, 183628, 57855, 90710, 47104, 55895, 57848, 82697, 4649950, 307603, 276439, 20530, 3565, 166993, 96, 4488978, 90982, 91055, 1491816, 297967, 10, 1185600, 1622883, 3853093, 858442, 1209956, 206104, 1287964, 6047340, 52746, 1351049, 72106, 49778]                                                                                                                                                                                                                                                                                                                                                                                                                                                                                                                                                                                                                                                                                                                                                                                                                                                                                                                                                                                                                                                                                                                                                                                                                                                                                                                                                                                                                                                                                                                                                                                                                                                                           |\n",
            "|24  |[1209436, 704870, 526127, 715768, 525006, 212553, 3179736, 536087, 892051, 1502294, 1270497, 24, 915184]                                                                                                                                                                                                                                                                                                                                                                                                                                                                                                                                                                                                                                                                                                                                                                                                                                                                                                                                                                                                                                                                                                                                                                                                                                                                                                                                                                                                                                                                                                                                                                                                                                                                                                                                                                                                                                                                                                                                                                                |\n",
            "|28  |[769787, 582796, 386429, 4287347, 270394, 453103, 897173, 1347769, 4500182, 725369, 28, 292406]                                                                                                                                                                                                                                                                                                                                                                                                                                                                                                                                                                                                                                                                                                                                                                                                                                                                                                                                                                                                                                                                                                                                                                                                                                                                                                                                                                                                                                                                                                                                                                                                                                                                                                                                                                                                                                                                                                                                                                                         |\n",
            "|29  |[332, 298724, 231463, 127953, 299, 763284, 514277, 228270, 225091, 1373017, 187589, 932243, 642410, 228582, 283245, 888159, 646244, 631684, 394112, 879429, 29, 1300422]                                                                                                                                                                                                                                                                                                                                                                                                                                                                                                                                                                                                                                                                                                                                                                                                                                                                                                                                                                                                                                                                                                                                                                                                                                                                                                                                                                                                                                                                                                                                                                                                                                                                                                                                                                                                                                                                                                                |\n",
            "|31  |[192, 4100542, 1397541, 2440783, 31, 4680655, 648168]                                                                                                                                                                                                                                                                                                                                                                                                                                                                                                                                                                                                                                                                                                                                                                                                                                                                                                                                                                                                                                                                                                                                                                                                                                                                                                                                                                                                                                                                                                                                                                                                                                                                                                                                                                                                                                                                                                                                                                                                                                   |\n",
            "|32  |[42, 225248, 1847419, 28332, 32, 1176237, 2408357, 1098456, 11]                                                                                                                                                                                                                                                                                                                                                                                                                                                                                                                                                                                                                                                                                                                                                                                                                                                                                                                                                                                                                                                                                                                                                                                                                                                                                                                                                                                                                                                                                                                                                                                                                                                                                                                                                                                                                                                                                                                                                                                                                         |\n",
            "|34  |[2048982, 934623, 5114, 907, 35940, 178013, 34, 7428923, 7402798, 267449, 59748, 178484]                                                                                                                                                                                                                                                                                                                                                                                                                                                                                                                                                                                                                                                                                                                                                                                                                                                                                                                                                                                                                                                                                                                                                                                                                                                                                                                                                                                                                                                                                                                                                                                                                                                                                                                                                                                                                                                                                                                                                                                                |\n",
            "|42  |[225248, 1847419, 28332, 32, 2408357, 1176237, 1098456, 11, 149919, 284259, 6419, 52182, 148622, 186298, 118445, 133784, 171286, 60183, 51792, 378669, 50225, 3079757, 29833, 183628, 601979, 27351, 862680, 273709, 42, 275, 41798, 57391, 1177262, 160300, 520642, 179458, 54724, 146271, 119906, 315122, 13, 1729239, 39917, 1188636, 342599, 146274, 125882, 317608, 49778]                                                                                                                                                                                                                                                                                                                                                                                                                                                                                                                                                                                                                                                                                                                                                                                                                                                                                                                                                                                                                                                                                                                                                                                                                                                                                                                                                                                                                                                                                                                                                                                                                                                                                                         |\n",
            "+----+----------------------------------------------------------------------------------------------------------------------------------------------------------------------------------------------------------------------------------------------------------------------------------------------------------------------------------------------------------------------------------------------------------------------------------------------------------------------------------------------------------------------------------------------------------------------------------------------------------------------------------------------------------------------------------------------------------------------------------------------------------------------------------------------------------------------------------------------------------------------------------------------------------------------------------------------------------------------------------------------------------------------------------------------------------------------------------------------------------------------------------------------------------------------------------------------------------------------------------------------------------------------------------------------------------------------------------------------------------------------------------------------------------------------------------------------------------------------------------------------------------------------------------------------------------------------------------------------------------------------------------------------------------------------------------------------------------------------------------------------------------------------------------------------------------------------------------------------------------------------------------------------------------------------------------------------------------------------------------------------------------------------------------------------------------------------------------------+\n",
            "only showing top 20 rows\n",
            "\n"
          ]
        }
      ],
      "source": [
        "# Show the result\n",
        "user_network_df.show(truncate=False)"
      ]
    },
    {
      "cell_type": "code",
      "execution_count": 34,
      "metadata": {
        "colab": {
          "base_uri": "https://localhost:8080/"
        },
        "id": "z6pRXxEA_DzN",
        "outputId": "ab255485-042c-46ef-836f-0b1990195a6a"
      },
      "outputs": [
        {
          "name": "stdout",
          "output_type": "stream",
          "text": [
            "+----+--------------------------------------------------------------------------------------------------------------------------------------------------------------------------------------------------------+\n",
            "|user|friends                                                                                                                                                                                                 |\n",
            "+----+--------------------------------------------------------------------------------------------------------------------------------------------------------------------------------------------------------+\n",
            "|2   |[220, 191142, 43]                                                                                                                                                                                       |\n",
            "|3   |[52, 1079020, 263437, 43, 567957, 7854140, 2382556, 1204190]                                                                                                                                            |\n",
            "|4   |[122744, 9271982, 125755, 187560, 968271, 221578, 125527]                                                                                                                                               |\n",
            "|6   |[4330489, 688883, 676003]                                                                                                                                                                               |\n",
            "|8   |[900433, 659067]                                                                                                                                                                                        |\n",
            "|9   |[185494, 367955, 243, 755956]                                                                                                                                                                           |\n",
            "|10  |[255, 13, 36523, 71056, 133032, 3844713, 43]                                                                                                                                                            |\n",
            "|11  |[149919, 6419, 52182, 148622, 118445, 133784, 171286, 60183, 51792, 50225, 183628, 29833, 27351, 862680, 273709, 275, 42, 41798, 57391, 160300, 179458, 54724, 146271, 119906, 13, 39917, 146274, 49778]|\n",
            "|12  |[135778, 221813, 156, 746556, 1742822, 112, 295034, 26675, 326885]                                                                                                                                      |\n",
            "|13  |[126820, 212813, 760161, 160206, 128281, 1941801, 10, 11, 64257, 3548, 717721, 58471, 149829, 1603, 699146, 4767862, 55280, 1875863]                                                                    |\n",
            "|16  |[433753, 1204210, 1079065, 615398, 60834, 1145, 35181, 1365163, 747, 47447, 167446, 1457073, 5434900]                                                                                                   |\n",
            "|18  |[334955]                                                                                                                                                                                                |\n",
            "|19  |[54866, 54533, 54851, 43, 54858, 52568, 85471]                                                                                                                                                          |\n",
            "|24  |[1209436, 704870]                                                                                                                                                                                       |\n",
            "|28  |[582796, 769787]                                                                                                                                                                                        |\n",
            "|29  |[332, 298724, 231463]                                                                                                                                                                                   |\n",
            "|31  |[192]                                                                                                                                                                                                   |\n",
            "|32  |[42]                                                                                                                                                                                                    |\n",
            "|34  |[2048982, 934623, 5114, 907, 35940]                                                                                                                                                                     |\n",
            "|42  |[225248, 1847419, 28332, 32, 2408357, 1176237, 1098456, 11]                                                                                                                                             |\n",
            "+----+--------------------------------------------------------------------------------------------------------------------------------------------------------------------------------------------------------+\n",
            "only showing top 20 rows\n",
            "\n",
            "+----+-------------------------------------------------------------------------------------------------------------------------------------------------------------------------------------------------------------------------------------------------------------------------------------------------------------------------------------------------------------------------------------------------------------------------------------------------------------------------------------------------------------------------------------------------------------------------------------------------------------------------------------------------------------------------------------------------------------------------------------------------------------------------------------------------------------------------------------------------------------------------------------------------------------------------------------------------------------------------------------------------------------------------------------------------------------------------------------------------------------------------------------------------------------------------------------------------------------------------------------------------------------------------------------------------------------------------------------------------------------------------------------------------------------------------------------------------------------------------------------------------------------------------------------------------------------------------------------------------------------------------------------------------------------------------------------------------------------------------------------------------------------------------------------------------------------------------------------------------------------------------------------------------------------------------------------------------------------------+\n",
            "|user|friends_of_friends                                                                                                                                                                                                                                                                                                                                                                                                                                                                                                                                                                                                                                                                                                                                                                                                                                                                                                                                                                                                                                                                                                                                                                                                                                                                                                                                                                                                                                                                                                                                                                                                                                                                                                                                                                                                                                                                                                                                                 |\n",
            "+----+-------------------------------------------------------------------------------------------------------------------------------------------------------------------------------------------------------------------------------------------------------------------------------------------------------------------------------------------------------------------------------------------------------------------------------------------------------------------------------------------------------------------------------------------------------------------------------------------------------------------------------------------------------------------------------------------------------------------------------------------------------------------------------------------------------------------------------------------------------------------------------------------------------------------------------------------------------------------------------------------------------------------------------------------------------------------------------------------------------------------------------------------------------------------------------------------------------------------------------------------------------------------------------------------------------------------------------------------------------------------------------------------------------------------------------------------------------------------------------------------------------------------------------------------------------------------------------------------------------------------------------------------------------------------------------------------------------------------------------------------------------------------------------------------------------------------------------------------------------------------------------------------------------------------------------------------------------------------+\n",
            "|2   |[49778, 3565, 892097, 96, 851628, 20639, 2, 3, 1491816, 316862, 10, 297967, 629, 19, 183628, 47104, 613769, 55895, 82697, 307603, 276439, 72106, 20530]                                                                                                                                                                                                                                                                                                                                                                                                                                                                                                                                                                                                                                                                                                                                                                                                                                                                                                                                                                                                                                                                                                                                                                                                                                                                                                                                                                                                                                                                                                                                                                                                                                                                                                                                                                                                            |\n",
            "|3   |[263468, 277545, 2, 14884139, 5561315, 316862, 3135797, 148035, 629, 19, 47104, 1028243, 1354887, 1400679, 525358, 55895, 521279, 307603, 225, 809443, 855452, 20530, 3565, 96, 1804420, 141210, 2087306, 1491816, 297967, 4402869, 2266248, 2047571, 4694550, 679648, 49778, 59208, 20639, 4153462, 1114544, 2210989, 3, 1745178, 4376570, 117793, 173334, 183628, 615598, 565575, 82697, 266763, 281136, 1708995, 276439, 1107915, 374536, 1375797, 331257, 10, 148049, 53860, 171598, 472894, 1327569, 2110371, 1092849, 147891, 1416613, 655009, 581123, 393813, 72106]                                                                                                                                                                                                                                                                                                                                                                                                                                                                                                                                                                                                                                                                                                                                                                                                                                                                                                                                                                                                                                                                                                                                                                                                                                                                                                                                                                                        |\n",
            "|4   |[114204, 3247825, 2405, 664326, 1746662, 4, 1598403, 65679, 159614]                                                                                                                                                                                                                                                                                                                                                                                                                                                                                                                                                                                                                                                                                                                                                                                                                                                                                                                                                                                                                                                                                                                                                                                                                                                                                                                                                                                                                                                                                                                                                                                                                                                                                                                                                                                                                                                                                                |\n",
            "|6   |[6190225, 1047359, 2959135, 6474049, 200497, 6627694, 66209, 4479211, 2566210, 6, 485, 6294075, 4882746, 3680332]                                                                                                                                                                                                                                                                                                                                                                                                                                                                                                                                                                                                                                                                                                                                                                                                                                                                                                                                                                                                                                                                                                                                                                                                                                                                                                                                                                                                                                                                                                                                                                                                                                                                                                                                                                                                                                                  |\n",
            "|8   |[2734056, 6573431, 704469, 1234370, 8]                                                                                                                                                                                                                                                                                                                                                                                                                                                                                                                                                                                                                                                                                                                                                                                                                                                                                                                                                                                                                                                                                                                                                                                                                                                                                                                                                                                                                                                                                                                                                                                                                                                                                                                                                                                                                                                                                                                             |\n",
            "|9   |[2822812, 2667704, 315475, 635985, 2308096, 2261623, 3017566, 737443, 49411, 4095326, 252489, 5084319, 287908, 753661, 2480536, 2400322, 378439, 632142, 2171178, 1282623, 451476, 2240105, 135809, 213, 563082, 64051, 132913, 441736, 63980, 134104, 2466865, 1208816, 1617273, 755956, 623439, 2338423, 1144545, 9, 1315421, 1636766, 143953, 277590, 258651, 281954, 3160205, 196304, 251599, 1635619, 2338707, 183160, 2198859, 3248656, 601511, 1428029, 243, 695629, 726786, 185494, 450376, 485010, 367955, 367091, 211271, 616948, 3314914, 1541697, 3152533, 1858840]                                                                                                                                                                                                                                                                                                                                                                                                                                                                                                                                                                                                                                                                                                                                                                                                                                                                                                                                                                                                                                                                                                                                                                                                                                                                                                                                                                                    |\n",
            "|10  |[189467, 126820, 20639, 212813, 760161, 2017878, 2425863, 2614182, 160206, 2, 3, 316862, 629, 19, 3548, 717721, 49158, 183628, 47104, 149829, 55895, 82697, 307603, 276439, 4767862, 1875863, 20530, 3565, 96, 128281, 1941801, 7809614, 1491816, 297967, 10, 11, 64257, 58471, 1603, 699146, 66916, 22365, 933401, 55280, 72106, 49778]                                                                                                                                                                                                                                                                                                                                                                                                                                                                                                                                                                                                                                                                                                                                                                                                                                                                                                                                                                                                                                                                                                                                                                                                                                                                                                                                                                                                                                                                                                                                                                                                                           |\n",
            "|11  |[265225, 5517890, 369194, 222448, 479905, 73047, 187887, 359483, 50225, 521408, 3548, 134447, 418147, 271199, 2549950, 151175, 66945, 148837, 339037, 1851162, 526668, 541986, 195662, 320173, 310185, 47146, 119906, 203649, 276082, 64257, 8266471, 460975, 28332, 1176237, 532900, 217385, 457623, 49778, 6650157, 1192, 380474, 108761, 518394, 79609, 60162, 150620, 183628, 317946, 710491, 10843491, 313330, 43, 1934308, 1875863, 1153053, 225248, 347510, 216451, 10, 2591142, 53860, 65628, 49781, 515253, 55280, 635760, 259622, 850721, 156280, 30397, 409221, 12731459, 67921, 717721, 124713, 415867, 171251, 2408357, 43933, 239580, 220531, 4748533, 49780, 11, 99928, 216679, 58471, 144146, 223192, 61107, 11113594, 146274, 299654, 1009036, 131183, 179051, 192183, 862946, 293843, 499759, 967829, 363896, 2933343, 596961, 481045, 203104, 51792, 22792, 236439, 75270, 103402, 158145, 1135878, 128281, 550936, 685104, 217005, 463770, 947498, 689462, 1000382, 243875, 71302, 150021, 262743, 760161, 1069238, 84601, 688136, 1451614, 890629, 2999770, 46844, 263614, 492092, 365811, 67855, 72350, 619974, 88843, 86615, 187192, 15019738, 187288, 907951, 2617984, 306625, 212813, 246329, 571842, 166594, 32, 40292, 534335, 1905456, 402124, 99681, 179214, 1847419, 149829, 369264, 4767862, 62134, 1616143, 229968, 478859, 601469, 403124, 146271, 136791, 270703, 176006, 1098456, 802707, 126820, 118683, 11714655, 379313, 66374, 456631, 67696, 628146, 1349186, 171286, 66274, 1599828, 1918387, 5880203, 1307021, 2324, 54650, 108550, 1941801, 1283206, 271441, 855754, 522279, 295094, 194925, 69500, 158644, 783746, 980509, 160206, 406411, 1093550, 1221103, 711838, 399538, 182537, 117793, 60183, 2752706, 1591530, 812461, 268685, 1943126, 41798, 90297, 233668, 163523, 70219, 843439, 353215, 160300, 190999, 1350441, 154110, 112, 720775, 117342, 221825, 3053274, 454005, 1603, 150048, 699146, 142767, 40899]|\n",
            "|12  |[459250, 292151, 1277014, 625489, 1384611, 267449, 211017, 4598683, 567875, 221813, 642596, 6573434, 2888717, 5829643, 20377, 2328260, 135778, 1033712, 211617, 1381932, 673821, 168919, 680739, 112, 624408, 54724, 2187318, 354728, 12, 1936141, 285338, 213508, 519544, 341, 222155, 746556, 4570403, 6002943]                                                                                                                                                                                                                                                                                                                                                                                                                                                                                                                                                                                                                                                                                                                                                                                                                                                                                                                                                                                                                                                                                                                                                                                                                                                                                                                                                                                                                                                                                                                                                                                                                                                  |\n",
            "|13  |[149919, 6419, 263774, 52182, 379509, 3844713, 65866, 148622, 2559615, 417643, 171286, 1708948, 81867, 104348, 493851, 127876, 50225, 29833, 27351, 27097, 906, 306899, 42, 461622, 275, 132307, 269371, 36523, 492092, 173833, 394305, 307818, 119906, 276082, 13, 39917, 9387198, 217385, 254116, 135472, 822132, 133032, 351805, 146274, 49778, 255, 149920, 89755, 317521, 160562, 4326422, 669748, 499759, 518902, 118445, 133784, 890068, 2396290, 60183, 51792, 22792, 359709, 183628, 862680, 142831, 273709, 43, 310573, 41798, 57391, 434945, 137984, 276847, 747886, 160300, 62134, 113450, 71056, 179458, 654657, 192802, 1519901, 54724, 225354, 146271, 484531, 392884, 270703, 363041, 278434, 351854, 79110, 1014663]                                                                                                                                                                                                                                                                                                                                                                                                                                                                                                                                                                                                                                                                                                                                                                                                                                                                                                                                                                                                                                                                                                                                                                                                                              |\n",
            "|16  |[1511377, 262054, 88049, 3721422, 630099, 109626, 4530642, 9294345, 234937, 1495441, 73420, 406300, 6044162, 2270564, 3204437, 158173, 623905, 3858141, 892803, 1204210, 602628, 590818, 60834, 6539375, 666670, 844450, 5211006, 1376125, 957949, 3524537, 2673006, 3882042, 3131007, 1927199, 25688, 594183, 394270, 4420636, 730179, 121928, 27485, 9584819, 2742141, 4646961, 3935584, 68936, 49489, 577724, 338509, 262934, 1294656, 11133837, 761, 2037744, 1009, 3115127, 5533982, 1519072, 730188, 1410104, 16, 432007, 45910, 4738217, 1516859, 1738, 2529257, 177638, 6675, 125531, 3799874, 1079065, 1351424, 747, 979752, 652113, 29037, 107502, 1018415, 63917, 42119, 419113]                                                                                                                                                                                                                                                                                                                                                                                                                                                                                                                                                                                                                                                                                                                                                                                                                                                                                                                                                                                                                                                                                                                                                                                                                                                                        |\n",
            "|18  |[3616520, 752035, 205163, 1761227, 3653441, 332582, 18, 217385, 149425]                                                                                                                                                                                                                                                                                                                                                                                                                                                                                                                                                                                                                                                                                                                                                                                                                                                                                                                                                                                                                                                                                                                                                                                                                                                                                                                                                                                                                                                                                                                                                                                                                                                                                                                                                                                                                                                                                            |\n",
            "|19  |[54866, 2502454, 1056745, 20639, 321354, 3814042, 54533, 2, 1228253, 3, 571488, 316862, 665589, 2654771, 19, 629, 276902, 183628, 57855, 90710, 47104, 55895, 57848, 82697, 4649950, 307603, 54858, 276439, 20530, 3565, 166993, 96, 4488978, 90982, 91055, 1491816, 297967, 10, 52568, 1185600, 1622883, 3853093, 858442, 1209956, 206104, 1287964, 6047340, 54851, 52746, 1351049, 72106, 85471, 49778]                                                                                                                                                                                                                                                                                                                                                                                                                                                                                                                                                                                                                                                                                                                                                                                                                                                                                                                                                                                                                                                                                                                                                                                                                                                                                                                                                                                                                                                                                                                                                          |\n",
            "|24  |[526127, 715768, 525006, 212553, 3179736, 536087, 892051, 1502294, 1270497, 24, 915184]                                                                                                                                                                                                                                                                                                                                                                                                                                                                                                                                                                                                                                                                                                                                                                                                                                                                                                                                                                                                                                                                                                                                                                                                                                                                                                                                                                                                                                                                                                                                                                                                                                                                                                                                                                                                                                                                            |\n",
            "|28  |[386429, 4287347, 270394, 453103, 897173, 1347769, 4500182, 725369, 28, 292406]                                                                                                                                                                                                                                                                                                                                                                                                                                                                                                                                                                                                                                                                                                                                                                                                                                                                                                                                                                                                                                                                                                                                                                                                                                                                                                                                                                                                                                                                                                                                                                                                                                                                                                                                                                                                                                                                                    |\n",
            "|29  |[127953, 299, 763284, 514277, 228270, 225091, 1373017, 187589, 932243, 642410, 228582, 283245, 888159, 646244, 631684, 394112, 879429, 29, 1300422]                                                                                                                                                                                                                                                                                                                                                                                                                                                                                                                                                                                                                                                                                                                                                                                                                                                                                                                                                                                                                                                                                                                                                                                                                                                                                                                                                                                                                                                                                                                                                                                                                                                                                                                                                                                                                |\n",
            "|31  |[4100542, 1397541, 2440783, 31, 4680655, 648168]                                                                                                                                                                                                                                                                                                                                                                                                                                                                                                                                                                                                                                                                                                                                                                                                                                                                                                                                                                                                                                                                                                                                                                                                                                                                                                                                                                                                                                                                                                                                                                                                                                                                                                                                                                                                                                                                                                                   |\n",
            "|32  |[225248, 1847419, 28332, 32, 1176237, 2408357, 1098456, 11]                                                                                                                                                                                                                                                                                                                                                                                                                                                                                                                                                                                                                                                                                                                                                                                                                                                                                                                                                                                                                                                                                                                                                                                                                                                                                                                                                                                                                                                                                                                                                                                                                                                                                                                                                                                                                                                                                                        |\n",
            "|34  |[178013, 34, 7428923, 7402798, 267449, 59748, 178484]                                                                                                                                                                                                                                                                                                                                                                                                                                                                                                                                                                                                                                                                                                                                                                                                                                                                                                                                                                                                                                                                                                                                                                                                                                                                                                                                                                                                                                                                                                                                                                                                                                                                                                                                                                                                                                                                                                              |\n",
            "|42  |[149919, 284259, 6419, 52182, 148622, 186298, 118445, 133784, 171286, 60183, 51792, 378669, 50225, 3079757, 29833, 183628, 601979, 27351, 862680, 273709, 42, 275, 41798, 57391, 1177262, 160300, 520642, 179458, 54724, 146271, 119906, 315122, 13, 1729239, 39917, 1188636, 342599, 146274, 125882, 317608, 49778]                                                                                                                                                                                                                                                                                                                                                                                                                                                                                                                                                                                                                                                                                                                                                                                                                                                                                                                                                                                                                                                                                                                                                                                                                                                                                                                                                                                                                                                                                                                                                                                                                                               |\n",
            "+----+-------------------------------------------------------------------------------------------------------------------------------------------------------------------------------------------------------------------------------------------------------------------------------------------------------------------------------------------------------------------------------------------------------------------------------------------------------------------------------------------------------------------------------------------------------------------------------------------------------------------------------------------------------------------------------------------------------------------------------------------------------------------------------------------------------------------------------------------------------------------------------------------------------------------------------------------------------------------------------------------------------------------------------------------------------------------------------------------------------------------------------------------------------------------------------------------------------------------------------------------------------------------------------------------------------------------------------------------------------------------------------------------------------------------------------------------------------------------------------------------------------------------------------------------------------------------------------------------------------------------------------------------------------------------------------------------------------------------------------------------------------------------------------------------------------------------------------------------------------------------------------------------------------------------------------------------------------------------+\n",
            "only showing top 20 rows\n",
            "\n"
          ]
        }
      ],
      "source": [
        "# Show the result for direct friends\n",
        "user_friends_df.show(truncate=False)\n",
        "\n",
        "# Show the result for friends of friends\n",
        "user_fof_df.show(truncate=False)"
      ]
    },
    {
      "cell_type": "markdown",
      "metadata": {
        "id": "gKOYtoRdz382"
      },
      "source": [
        "**Algorithm Description**\n",
        "1.   Direct Friends Extraction:  \n",
        "    *   Filter the transactions DataFrame to get all records where either user1 or user2 is equal to the given user ID.\n",
        "    *   Create a new column friend to identify the friend in each transaction (i.e., if user1 is the user, user2 is the friend and vice versa).\n",
        "    *   Select and distinct the friend column to get a unique list of direct friends.  \n",
        "    \n",
        "2.   Friends of Friends Extraction:\n",
        "    *   Join the transactions DataFrame with the direct_friends DataFrame on user IDs (user1 or user2 matching the friend column).\n",
        "    *   In the resulting DataFrame, create a new column fof to identify the friends of friends, ensuring that we exclude the original user and any direct friends.\n",
        "    *   Filter out any null values in the fof column and select distinct values.  \n",
        "\n",
        "3.   Combining Results:\n",
        "    *   Union the direct friends and friends of friends DataFrames to get a combined list of all friends and friends of friends.\n",
        "    *   Remove duplicates to ensure each friend or friend of friend appears only once."
      ]
    },
    {
      "cell_type": "markdown",
      "metadata": {
        "id": "iq0JpeVL0tTn"
      },
      "source": [
        "**Computational Complexity**\n",
        "1.   Direct Friends Extraction:  \n",
        "    *   Filtering the DataFrame involves scanning all transactions, resulting in O(n) complexity, where n is the number of transactions.\n",
        "    *   Selecting distinct values also involves O(n) complexity.\n",
        "    \n",
        "2.   Friends of Friends Extraction:\n",
        "    *   The join operation involves combining two DataFrames, one of which has size proportional to the number of direct friends (let's call this k). The join complexity is approximately O(nk).\n",
        "    *   The subsequent operations (like creating the fof column and filtering) have complexity O(n).  \n",
        "\n",
        "3.   Combining Results:\n",
        "    *   Union and distinct operations involve scanning both DataFrames, which is approximately O(n + nk).\n",
        "\n",
        "Overall, the algorithm has a complexity of O(nk), where n is the number of transactions, and k is the number of direct friends."
      ]
    },
    {
      "cell_type": "markdown",
      "metadata": {
        "id": "CP3W9ZN2Prgy"
      },
      "source": [
        "#### 2.2 Calculate the social network metrics across a user’s lifetime in Venmo (from 0 up to 12 months)"
      ]
    },
    {
      "cell_type": "markdown",
      "metadata": {
        "id": "3g16Ut75Q6iP"
      },
      "source": [
        "##### i) Number of friends and number of friends of friends"
      ]
    },
    {
      "cell_type": "code",
      "execution_count": 35,
      "metadata": {
        "colab": {
          "base_uri": "https://localhost:8080/"
        },
        "id": "nSl6ywH2_Fku",
        "outputId": "5828dedb-8963-4115-b3b4-a6e2c6a7e2d3"
      },
      "outputs": [
        {
          "name": "stdout",
          "output_type": "stream",
          "text": [
            "+----+----------------------+\n",
            "|user|first_transaction_date|\n",
            "+----+----------------------+\n",
            "|2   |2012-11-23 06:03:42   |\n",
            "|3   |2016-06-27 01:14:37   |\n",
            "|4   |2012-12-03 03:35:53   |\n",
            "|6   |2014-06-28 00:18:16   |\n",
            "|8   |2015-08-11 02:08:47   |\n",
            "|9   |2012-06-28 04:28:32   |\n",
            "|10  |2012-11-25 09:20:39   |\n",
            "|11  |2012-05-15 22:08:58   |\n",
            "|12  |2012-09-01 03:40:16   |\n",
            "|13  |2012-09-28 06:11:39   |\n",
            "|16  |2014-07-12 04:20:53   |\n",
            "|18  |2016-02-21 07:17:22   |\n",
            "|19  |2012-05-26 02:19:04   |\n",
            "|24  |2013-12-20 10:31:39   |\n",
            "|28  |2014-05-22 11:25:51   |\n",
            "|29  |2014-04-25 23:37:38   |\n",
            "|31  |2013-05-19 11:19:15   |\n",
            "|32  |2012-11-07 01:29:50   |\n",
            "|34  |2014-07-21 23:31:20   |\n",
            "|42  |2012-08-25 00:30:23   |\n",
            "+----+----------------------+\n",
            "only showing top 20 rows\n",
            "\n"
          ]
        }
      ],
      "source": [
        "from pyspark.sql.functions import col, min\n",
        "\n",
        "# Extract the transaction dates for user1 and user2\n",
        "user1_dates = venmo_df.select(col(\"user1\").alias(\"user\"), col(\"datetime\").alias(\"transaction_date\"))\n",
        "user2_dates = venmo_df.select(col(\"user2\").alias(\"user\"), col(\"datetime\").alias(\"transaction_date\"))\n",
        "\n",
        "# Union the DataFrames to combine dates\n",
        "combined_dates = user1_dates.union(user2_dates)\n",
        "\n",
        "# Group by user and find the minimum transaction date\n",
        "first_transaction_df = combined_dates.groupBy(\"user\").agg(\n",
        "    min(\"transaction_date\").alias(\"first_transaction_date\")\n",
        ")\n",
        "\n",
        "# Sort the DataFrame by user in ascending order\n",
        "first_transaction_df = first_transaction_df.orderBy(\"user\")\n",
        "\n",
        "# Show the result\n",
        "first_transaction_df.show(truncate=False)"
      ]
    },
    {
      "cell_type": "code",
      "execution_count": 36,
      "metadata": {
        "colab": {
          "base_uri": "https://localhost:8080/"
        },
        "id": "z2laQqUj_G7h",
        "outputId": "9d1f2b90-c5cf-4246-b766-63488086fe8d"
      },
      "outputs": [
        {
          "name": "stdout",
          "output_type": "stream",
          "text": [
            "+-------+-----+----------------+-------------------+---------------------------------------------------------------+-----------+------------------------+-----------------+-----------------+\n",
            "|user1  |user2|transaction_type|datetime           |description                                                    |is_business|story_id                |user1_month_index|user2_month_index|\n",
            "+-------+-----+----------------+-------------------+---------------------------------------------------------------+-----------+------------------------+-----------------+-----------------+\n",
            "|112    |12   |charge          |2012-09-01 03:40:16|for a little cabin in the woods.... and by a 78 foot-waterfall!|false      |50412130c5b30a09817e30c9|2                |0                |\n",
            "|582796 |28   |payment         |2014-06-02 11:02:23|Nanking                                                        |false      |538bf74fd546b84342b0c6e3|8                |0                |\n",
            "|192    |31   |payment         |2013-05-19 11:19:15|Brunch                                                         |false      |519854a825ee44b9ab32a485|0                |0                |\n",
            "|907    |34   |payment         |2014-12-14 20:24:21|for SUPER SUPPER                                               |false      |548d8175ca134c4043b25fff|0                |4                |\n",
            "|2048982|34   |payment         |2014-09-25 00:07:45|Thai                                                           |false      |5422fa617d0b0354eff51bb9|1                |2                |\n",
            "|71454  |133  |payment         |2013-02-11 04:25:50|Doooont stop beliiiiieeeewviiiinnng                            |false      |5118036625ee44b9abcdbc1a|4                |0                |\n",
            "|200695 |253  |payment         |2014-03-19 23:14:37|for David's winning NCAA bracket                               |false      |5329c26dd546b8434257c661|0                |0                |\n",
            "|484756 |253  |payment         |2014-08-27 09:53:16|Mangia                                                         |false      |53fd481c7d0b0354ef3ad07f|2                |5                |\n",
            "|1165631|253  |payment         |2014-11-04 03:03:22|⚽️🏃                                                           |false      |5457d17a7d0b0354ef0e717a|0                |7                |\n",
            "|66916  |255  |payment         |2012-11-23 23:06:05|Rent                                                           |false      |50af914d25ee44b9abd95d81|0                |0                |\n",
            "|10     |255  |payment         |2012-11-25 09:20:39|Thank you bro!                                                 |false      |50b172d925ee44b9abdc6144|0                |0                |\n",
            "|10     |255  |payment         |2013-03-11 04:38:51|Love my belt..i'm a little copycat!                            |false      |513cfec025ee44b9ab45be7f|3                |3                |\n",
            "|10     |255  |payment         |2013-01-14 08:18:43|Sweater                                                        |false      |50f34fc025ee44b9ab665660|1                |1                |\n",
            "|329565 |285  |charge          |2014-09-09 22:01:14|Lunch                                                          |false      |540f163a7d0b0354ef962117|3                |11               |\n",
            "|401467 |285  |payment         |2013-09-10 01:58:34|Boudin                                                         |false      |522e1a5ad56b6bac5cf1268c|0                |0                |\n",
            "|691299 |285  |payment         |2014-06-07 20:30:37|Banking error.                                                 |false      |539313fd7d0b0354ef5d60e1|5                |8                |\n",
            "|691299 |285  |payment         |2014-09-01 08:36:49|Sportsfest bets                                                |false      |5403cdb17d0b0354ef5a061d|8                |11               |\n",
            "|834567 |322  |payment         |2014-10-14 23:01:37|Knicks refund                                                  |false      |543d48e27d0b0354ef7da0a5|0                |0                |\n",
            "|2222652|322  |payment         |2015-04-23 08:35:21|🎉🎉🎉                                                         |false      |55384c5ad4aeb609536d0350|4                |6                |\n",
            "|1764984|375  |payment         |2015-04-23 06:37:34|From the vending machine                                       |false      |553830bee855742103dc41cd|9                |0                |\n",
            "+-------+-----+----------------+-------------------+---------------------------------------------------------------+-----------+------------------------+-----------------+-----------------+\n",
            "only showing top 20 rows\n",
            "\n"
          ]
        }
      ],
      "source": [
        "from pyspark.sql.functions import col, min, expr, months_between, floor\n",
        "\n",
        "# Rename columns for joining purposes\n",
        "first_transaction_df_user1 = first_transaction_df.withColumnRenamed(\"user\", \"user1\").withColumnRenamed(\"first_transaction_date\", \"user1_first_transaction_date\")\n",
        "first_transaction_df_user2 = first_transaction_df.withColumnRenamed(\"user\", \"user2\").withColumnRenamed(\"first_transaction_date\", \"user2_first_transaction_date\")\n",
        "\n",
        "# Join the original DataFrame with the first transaction dates\n",
        "venmo_df_joined = venmo_df.join(first_transaction_df_user1, on=\"user1\").join(first_transaction_df_user2, on=\"user2\")\n",
        "\n",
        "# Filter the DataFrame based on the condition (within one year after the first transaction date)\n",
        "filtered_venmo_df = venmo_df_joined.filter(\n",
        "    (col(\"datetime\") <= expr(\"user1_first_transaction_date + interval 1 year\")) &\n",
        "    (col(\"datetime\") <= expr(\"user2_first_transaction_date + interval 1 year\"))\n",
        ")\n",
        "\n",
        "# Calculate month_index for user1 and user2\n",
        "filtered_venmo_df = filtered_venmo_df.withColumn(\n",
        "    \"user1_month_index\", floor(months_between(col(\"datetime\"), col(\"user1_first_transaction_date\")))\n",
        ").withColumn(\n",
        "    \"user2_month_index\", floor(months_between(col(\"datetime\"), col(\"user2_first_transaction_date\")))\n",
        ")\n",
        "\n",
        "# Select relevant columns\n",
        "filtered_venmo_df = filtered_venmo_df.select(\"user1\", \"user2\", \"transaction_type\", \"datetime\", \"description\", \"is_business\", \"story_id\", \"user1_month_index\", \"user2_month_index\")\n",
        "\n",
        "# Show the filtered result with month indices\n",
        "filtered_venmo_df.show(truncate=False)"
      ]
    },
    {
      "cell_type": "code",
      "execution_count": 37,
      "metadata": {
        "colab": {
          "base_uri": "https://localhost:8080/"
        },
        "id": "ltBwm91aQ87g",
        "outputId": "f3dd26bc-3dc4-40c9-a324-1ae82511bcb8"
      },
      "outputs": [
        {
          "name": "stdout",
          "output_type": "stream",
          "text": [
            "+----+-----------+---------------------------+------------------+------------+---------+\n",
            "|user|month_index|friends                    |friends_of_friends|friend_count|fof_count|\n",
            "+----+-----------+---------------------------+------------------+------------+---------+\n",
            "|2   |0          |[220]                      |[2]               |1           |1        |\n",
            "|3   |3          |[1079020, 7854140, 2382556]|[]                |3           |0        |\n",
            "|4   |0          |[122744, 125527]           |[4]               |2           |1        |\n",
            "|4   |1          |[125755]                   |[]                |1           |0        |\n",
            "|6   |0          |[676003]                   |[6]               |1           |1        |\n",
            "|6   |9          |[4330489]                  |[]                |1           |0        |\n",
            "|8   |0          |[900433]                   |[8]               |1           |1        |\n",
            "|8   |1          |[900433]                   |[2734056, 8]      |1           |2        |\n",
            "|8   |5          |[659067]                   |[]                |1           |0        |\n",
            "|8   |6          |[900433]                   |[8]               |1           |1        |\n",
            "|8   |8          |[900433]                   |[8]               |1           |1        |\n",
            "|8   |9          |[900433]                   |[8]               |1           |1        |\n",
            "|9   |0          |[243]                      |[9]               |1           |1        |\n",
            "|9   |1          |[243]                      |[9]               |1           |1        |\n",
            "|9   |4          |[243]                      |[9]               |1           |1        |\n",
            "|9   |6          |[243]                      |[9]               |1           |1        |\n",
            "|9   |7          |[243]                      |[9]               |1           |1        |\n",
            "|10  |0          |[255, 43]                  |[10, 66916, 20530]|2           |3        |\n",
            "|10  |1          |[255, 43]                  |[19, 47104, 10]   |2           |3        |\n",
            "|10  |3          |[255, 43]                  |[47104, 55895, 10]|2           |3        |\n",
            "+----+-----------+---------------------------+------------------+------------+---------+\n",
            "only showing top 20 rows\n",
            "\n"
          ]
        }
      ],
      "source": [
        "from pyspark.sql.functions import col, min, expr, months_between, floor, collect_set, explode, size, array_distinct\n",
        "\n",
        "# Create two DataFrames for user1 and user2\n",
        "user1_df = filtered_venmo_df.select(col(\"user1\").alias(\"user\"), col(\"user1_month_index\").alias(\"month_index\"), col(\"user2\").alias(\"friend\"))\n",
        "user2_df = filtered_venmo_df.select(col(\"user2\").alias(\"user\"), col(\"user2_month_index\").alias(\"month_index\"), col(\"user1\").alias(\"friend\"))\n",
        "\n",
        "# Union the DataFrames to combine user1 and user2 data\n",
        "combined_df = user1_df.union(user2_df)\n",
        "\n",
        "# Group by user and month_index to get distinct friends for each month\n",
        "friends_df = combined_df.groupBy(\"user\", \"month_index\").agg(\n",
        "    array_distinct(collect_set(\"friend\")).alias(\"friends\")\n",
        ")\n",
        "\n",
        "# Self-join to find friends of friends\n",
        "fof_df = friends_df.withColumn(\"friend\", explode(\"friends\")).join(\n",
        "    combined_df.select(col(\"user\").alias(\"friend_user\"), col(\"friend\").alias(\"fof\"), col(\"month_index\").alias(\"fof_month_index\")),\n",
        "    (col(\"friend\") == col(\"friend_user\")) & (col(\"month_index\") == col(\"fof_month_index\")),\n",
        "    \"left\"\n",
        ").groupBy(\"user\", \"month_index\").agg(\n",
        "    array_distinct(collect_set(\"fof\")).alias(\"friends_of_friends\")\n",
        ")\n",
        "\n",
        "# Combine friends and friends of friends into a single DataFrame\n",
        "result_df = friends_df.join(fof_df, on=[\"user\", \"month_index\"], how=\"left\").select(\n",
        "    col(\"user\"),\n",
        "    col(\"month_index\"),\n",
        "    col(\"friends\"),\n",
        "    col(\"friends_of_friends\")\n",
        ")\n",
        "\n",
        "# Calculate the counts of friends and friends of friends\n",
        "result_df = result_df.withColumn(\"friend_count\", size(\"friends\")).withColumn(\"fof_count\", size(\"friends_of_friends\"))\n",
        "\n",
        "# Show the result\n",
        "result_df.orderBy(\"user\", \"month_index\").show(truncate=False)"
      ]
    },
    {
      "cell_type": "markdown",
      "metadata": {
        "id": "sVCzZJRnPUp-"
      },
      "source": [
        "##### ii) Clustering coefficient of a user's network"
      ]
    },
    {
      "cell_type": "code",
      "execution_count": 38,
      "metadata": {
        "colab": {
          "base_uri": "https://localhost:8080/"
        },
        "id": "iXFA7ecT_epa",
        "outputId": "38f697b5-40e0-40b5-f6f8-965242b86b3f"
      },
      "outputs": [
        {
          "name": "stdout",
          "output_type": "stream",
          "text": [
            "+----+-----------+---------------------------+------------------+------------+---------+----------------------+\n",
            "|user|month_index|friends                    |friends_of_friends|friend_count|fof_count|clustering_coefficient|\n",
            "+----+-----------+---------------------------+------------------+------------+---------+----------------------+\n",
            "|2   |0          |[220]                      |[2]               |1           |1        |0.0                   |\n",
            "|3   |3          |[1079020, 7854140, 2382556]|[]                |3           |0        |0.0                   |\n",
            "|4   |0          |[122744, 125527]           |[4]               |2           |1        |0.0                   |\n",
            "|4   |1          |[125755]                   |[]                |1           |0        |0.0                   |\n",
            "|6   |0          |[676003]                   |[6]               |1           |1        |0.0                   |\n",
            "|6   |9          |[4330489]                  |[]                |1           |0        |0.0                   |\n",
            "|8   |0          |[900433]                   |[8]               |1           |1        |0.0                   |\n",
            "|8   |1          |[900433]                   |[2734056, 8]      |1           |2        |0.0                   |\n",
            "|8   |5          |[659067]                   |[]                |1           |0        |0.0                   |\n",
            "|8   |6          |[900433]                   |[8]               |1           |1        |0.0                   |\n",
            "|8   |8          |[900433]                   |[8]               |1           |1        |0.0                   |\n",
            "|8   |9          |[900433]                   |[8]               |1           |1        |0.0                   |\n",
            "|9   |0          |[243]                      |[9]               |1           |1        |0.0                   |\n",
            "|9   |1          |[243]                      |[9]               |1           |1        |0.0                   |\n",
            "|9   |4          |[243]                      |[9]               |1           |1        |0.0                   |\n",
            "|9   |6          |[243]                      |[9]               |1           |1        |0.0                   |\n",
            "|9   |7          |[243]                      |[9]               |1           |1        |0.0                   |\n",
            "|10  |0          |[255, 43]                  |[10, 66916, 20530]|2           |3        |0.0                   |\n",
            "|10  |1          |[255, 43]                  |[19, 47104, 10]   |2           |3        |0.0                   |\n",
            "|10  |3          |[255, 43]                  |[47104, 55895, 10]|2           |3        |0.0                   |\n",
            "+----+-----------+---------------------------+------------------+------------+---------+----------------------+\n",
            "only showing top 20 rows\n",
            "\n"
          ]
        }
      ],
      "source": [
        "from pyspark.sql.types import DoubleType\n",
        "\n",
        "# Define a function to calculate the clustering coefficient\n",
        "def calculate_clustering_coefficient(user, friends, friends_of_friends):\n",
        "    if len(friends) < 2:\n",
        "        return 0.0\n",
        "    triangles = 0\n",
        "    for i in range(len(friends)):\n",
        "        for j in range(i + 1, len(friends)):\n",
        "            if friends[j] in friends_of_friends:\n",
        "                triangles += 1\n",
        "    possible_triangles = len(friends) * (len(friends) - 1) / 2\n",
        "    return triangles / possible_triangles if possible_triangles > 0 else 0.0\n",
        "\n",
        "# Register the function as a UDF\n",
        "from pyspark.sql.functions import udf\n",
        "clustering_coefficient_udf = udf(calculate_clustering_coefficient, DoubleType())\n",
        "\n",
        "# Apply the UDF to calculate clustering coefficient\n",
        "result_with_clustering_df = result_df.withColumn(\n",
        "    \"clustering_coefficient\",\n",
        "    clustering_coefficient_udf(col(\"user\"), col(\"friends\"), col(\"friends_of_friends\"))\n",
        ")\n",
        "\n",
        "# Show the final result\n",
        "result_with_clustering_df.orderBy(\"user\", \"month_index\").show(truncate=False)"
      ]
    },
    {
      "cell_type": "code",
      "execution_count": 39,
      "metadata": {
        "colab": {
          "base_uri": "https://localhost:8080/"
        },
        "id": "lDS6J2EsAYry",
        "outputId": "4ebbbde2-77e1-4ad5-bf3c-ab5c6845e5da"
      },
      "outputs": [
        {
          "name": "stdout",
          "output_type": "stream",
          "text": [
            "Total number of distinct clustering coefficients: 201\n"
          ]
        }
      ],
      "source": [
        "# Show the distinct clustering_coefficient values and count the number of unique values\n",
        "distinct_clustering_coefficients = result_with_clustering_df.select(\"clustering_coefficient\").distinct()\n",
        "distinct_count = distinct_clustering_coefficients.count()\n",
        "\n",
        "print(f\"Total number of distinct clustering coefficients: {distinct_count}\")"
      ]
    },
    {
      "cell_type": "code",
      "execution_count": 40,
      "metadata": {
        "colab": {
          "base_uri": "https://localhost:8080/"
        },
        "id": "eqBnUDYlBFyc",
        "outputId": "b1620b43-85f2-4d64-ad7d-6d23491752a6"
      },
      "outputs": [
        {
          "name": "stdout",
          "output_type": "stream",
          "text": [
            "+----------------------+\n",
            "|clustering_coefficient|\n",
            "+----------------------+\n",
            "|0.12727272727272726   |\n",
            "|0.14035087719298245   |\n",
            "|0.38181818181818183   |\n",
            "|0.08333333333333333   |\n",
            "|0.0                   |\n",
            "|0.4666666666666667    |\n",
            "|0.4090909090909091    |\n",
            "|0.4722222222222222    |\n",
            "|0.08791208791208792   |\n",
            "|0.2                   |\n",
            "|0.2222222222222222    |\n",
            "|0.5357142857142857    |\n",
            "|0.8181818181818182    |\n",
            "|0.5454545454545454    |\n",
            "|0.1794871794871795    |\n",
            "|0.5833333333333334    |\n",
            "|0.07142857142857142   |\n",
            "|0.5818181818181818    |\n",
            "|0.9333333333333333    |\n",
            "|0.7                   |\n",
            "+----------------------+\n",
            "only showing top 20 rows\n",
            "\n"
          ]
        }
      ],
      "source": [
        "# Show the distinct clustering coefficient values\n",
        "distinct_clustering_coefficients.show(truncate=False)"
      ]
    },
    {
      "cell_type": "markdown",
      "metadata": {
        "id": "u5eR-gX5fpKm"
      },
      "source": [
        "### __3. Predictive Analytics with MLlib__"
      ]
    },
    {
      "cell_type": "markdown",
      "metadata": {
        "id": "I-Yje6YQJ340"
      },
      "source": [
        "#### 3.1 Preparation"
      ]
    },
    {
      "cell_type": "code",
      "execution_count": 41,
      "metadata": {
        "id": "6b-FedpQPn3G"
      },
      "outputs": [],
      "source": [
        "# import packages\n",
        "import re\n",
        "import pandas as pd\n",
        "from google.colab import drive\n",
        "from pyspark.sql import SparkSession\n",
        "from pyspark.sql.functions import lit, col, udf, explode, array_contains, split, size, array_union\n",
        "from pyspark.sql.types import ArrayType, StringType"
      ]
    },
    {
      "cell_type": "code",
      "execution_count": 42,
      "metadata": {
        "colab": {
          "base_uri": "https://localhost:8080/"
        },
        "id": "E4CPt5zUJg1C",
        "outputId": "9ffc141e-bf83-4dda-b19e-894720f2c3c5"
      },
      "outputs": [
        {
          "name": "stdout",
          "output_type": "stream",
          "text": [
            "+-------+-------+----------------+-------------------+---------------+-----------+--------------------+----+-----+---+\n",
            "|  user1|  user2|transaction_type|           datetime|    description|is_business|            story_id|year|month|day|\n",
            "+-------+-------+----------------+-------------------+---------------+-----------+--------------------+----+-----+---+\n",
            "|1218774|1528945|         payment|2015-11-27 10:48:19|           Uber|      false|5657c473cd03c9af2...|2015|   11| 27|\n",
            "|5109483|4782303|         payment|2015-06-17 11:37:04|         Costco|      false|5580f9702b64f70ab...|2015|    6| 17|\n",
            "|4322148|3392963|         payment|2015-06-19 07:05:31|   Sweaty balls|      false|55835ccb1a624b14a...|2015|    6| 19|\n",
            "| 469894|1333620|          charge|2016-06-03 23:34:13|             🎥|      false|5751b185cd03c9af2...|2016|    6|  3|\n",
            "|2960727|3442373|         payment|2016-05-29 23:23:42|              ⚡|      false|574b178ecd03c9af2...|2016|    5| 29|\n",
            "|3977544|2709470|         payment|2016-09-29 22:12:07|     Chipotlaid|      false|57ed2f4723e064eac...|2016|    9| 29|\n",
            "|3766386|4209061|         payment|2016-05-20 10:31:15|kitchen counter|      false|573e8503cd03c9af2...|2016|    5| 20|\n",
            "| 730075| 804466|         payment|2016-05-26 04:46:45|           Food|      false|57461d46cd03c9af2...|2016|    5| 26|\n",
            "|5221751|4993533|         payment|2016-07-14 22:53:49|          Zaxby|      false|5787b58d23e064eac...|2016|    7| 14|\n",
            "|6843582|7308338|         payment|2016-08-31 10:32:46|      Fan sucks|      false|57c64fdf23e064eac...|2016|    8| 31|\n",
            "+-------+-------+----------------+-------------------+---------------+-----------+--------------------+----+-----+---+\n",
            "only showing top 10 rows\n",
            "\n"
          ]
        }
      ],
      "source": [
        "from pyspark.sql.functions import year, month, day\n",
        "\n",
        "# Path to the file\n",
        "parquet_file_path = '/content/drive/Shared drives/423/HW5/VenmoSample.snappy.parquet'\n",
        "\n",
        "# Read the Parquet file into a DataFrame\n",
        "data = spark.read.parquet(parquet_file_path)\n",
        "\n",
        "# Add year column\n",
        "data = data.withColumn(\"year\", year(data[\"datetime\"]))\n",
        "data = data.withColumn(\"month\", month(data[\"datetime\"]))\n",
        "data = data.withColumn(\"day\", day(data[\"datetime\"]))\n",
        "data.show(10)"
      ]
    },
    {
      "cell_type": "markdown",
      "metadata": {
        "id": "htRUIBHvJ9uw"
      },
      "source": [
        "#### 3.2 Create dependent variable: Number of Transactions (from 0 to 12 month)"
      ]
    },
    {
      "cell_type": "code",
      "execution_count": 43,
      "metadata": {
        "colab": {
          "base_uri": "https://localhost:8080/"
        },
        "id": "6hdWR3mMJnAm",
        "outputId": "176ac1df-68bf-4d32-b792-d457e336d4ba"
      },
      "outputs": [
        {
          "name": "stdout",
          "output_type": "stream",
          "text": [
            "+-----+----------------------------+\n",
            "|user1|total_transactions_12_months|\n",
            "+-----+----------------------------+\n",
            "|    2|                           1|\n",
            "|    3|                           6|\n",
            "|    4|                           2|\n",
            "|   10|                           7|\n",
            "|   11|                           6|\n",
            "|   12|                           4|\n",
            "|   13|                           4|\n",
            "|   16|                           3|\n",
            "|   19|                           1|\n",
            "|   28|                           1|\n",
            "+-----+----------------------------+\n",
            "only showing top 10 rows\n",
            "\n"
          ]
        }
      ],
      "source": [
        "from pyspark.sql.functions import col, count, min, month, year, expr\n",
        "\n",
        "# Step 1: Find the first transaction date for each user\n",
        "first_transaction = data.groupBy(\"user1\").agg(\n",
        "    min(\"datetime\").alias(\"first_transaction_date\")\n",
        ")\n",
        "\n",
        "# Step 2: Calculate the end date for the first 12 months for each user\n",
        "first_transaction = first_transaction.withColumn(\n",
        "    \"end_date\", expr(\"add_months(first_transaction_date, 12)\")\n",
        ")\n",
        "\n",
        "# Join to get the end date into the main dataset\n",
        "data_with_end_date = data.join(first_transaction, \"user1\")\n",
        "\n",
        "# Step 3: Filter transactions within the first 12 months of each user's first transaction\n",
        "filtered_data = data_with_end_date.filter(\n",
        "    (col(\"datetime\") <= col(\"end_date\")) &\n",
        "    (col(\"datetime\") >= col(\"first_transaction_date\"))\n",
        ")\n",
        "\n",
        "# Step 4: Calculate the total number of transactions for each user in the first 12 months\n",
        "total_transactions_first_12_months = filtered_data.groupBy(\"user1\").agg(\n",
        "    count(\"transaction_type\").alias(\"total_transactions_12_months\")\n",
        ").orderBy(\"user1\")\n",
        "\n",
        "total_transactions_first_12_months.show(10)"
      ]
    },
    {
      "cell_type": "markdown",
      "metadata": {
        "id": "Yk1hhPADKFw8"
      },
      "source": [
        "#### 3.3 Define Recency and Frequency"
      ]
    },
    {
      "cell_type": "code",
      "execution_count": 44,
      "metadata": {
        "colab": {
          "base_uri": "https://localhost:8080/"
        },
        "id": "lspAXtQYJqE8",
        "outputId": "ed4b756d-30f5-4871-9e85-38320f417d62"
      },
      "outputs": [
        {
          "name": "stdout",
          "output_type": "stream",
          "text": [
            "+-----+----+-----+---------------------+---------+---------------------+-------+----------------------+--------------+\n",
            "|user1|year|month|last_transaction_date|frequency|prev_transaction_date|recency|first_transaction_date|lifetime_point|\n",
            "+-----+----+-----+---------------------+---------+---------------------+-------+----------------------+--------------+\n",
            "|    2|2012|   11|  2012-11-23 06:03:42|        1|                 NULL|      0|   2012-11-23 06:03:42|             0|\n",
            "|    3|2016|    9|  2016-09-22 15:30:09|        1|                 NULL|      0|   2016-09-22 15:30:09|             0|\n",
            "|    3|2016|   10|  2016-10-09 03:36:13|        5|  2016-10-09 01:56:24|      0|   2016-09-22 15:30:09|             1|\n",
            "|    4|2012|   12|  2012-12-15 05:51:12|        2|  2012-12-03 03:35:53|     12|   2012-12-03 03:35:53|             0|\n",
            "|   10|2012|   11|  2012-11-25 09:20:39|        1|                 NULL|      0|   2012-11-25 09:20:39|             0|\n",
            "|   10|2012|   12|  2012-12-31 12:44:12|        2|  2012-12-23 11:08:45|      8|   2012-11-25 09:20:39|             1|\n",
            "|   10|2013|    1|  2013-01-14 08:18:43|        1|  2012-12-31 12:44:12|     14|   2012-11-25 09:20:39|             2|\n",
            "|   10|2013|    3|  2013-03-11 04:38:51|        2|  2013-03-03 12:47:10|      8|   2012-11-25 09:20:39|             4|\n",
            "|   10|2013|    4|  2013-04-05 09:48:56|        1|  2013-03-11 04:38:51|     25|   2012-11-25 09:20:39|             5|\n",
            "|   11|2012|    5|  2012-05-24 11:30:30|        1|                 NULL|      0|   2012-05-24 11:30:30|             0|\n",
            "|   11|2012|    8|  2012-08-25 00:30:23|        2|  2012-08-10 02:01:05|     15|   2012-05-24 11:30:30|             3|\n",
            "|   11|2012|   10|  2012-10-13 06:32:54|        2|  2012-10-07 04:57:45|      6|   2012-05-24 11:30:30|             5|\n",
            "|   11|2012|   11|  2012-11-18 03:58:43|        1|  2012-10-13 06:32:54|     36|   2012-05-24 11:30:30|             6|\n",
            "|   12|2012|   10|  2012-10-03 06:50:23|        1|                 NULL|      0|   2012-10-03 06:50:23|             0|\n",
            "|   12|2013|    2|  2013-02-11 03:06:50|        1|  2012-10-03 06:50:23|    131|   2012-10-03 06:50:23|             4|\n",
            "|   12|2013|    5|  2013-05-06 05:45:39|        1|  2013-02-11 03:06:50|     84|   2012-10-03 06:50:23|             7|\n",
            "|   12|2013|    8|  2013-08-02 03:23:23|        1|  2013-05-06 05:45:39|     88|   2012-10-03 06:50:23|            10|\n",
            "|   13|2012|   10|  2012-10-29 12:18:04|        1|                 NULL|      0|   2012-10-29 12:18:04|             0|\n",
            "|   13|2013|    3|  2013-03-21 09:51:49|        1|  2012-10-29 12:18:04|    143|   2012-10-29 12:18:04|             5|\n",
            "|   13|2013|    4|  2013-04-13 00:19:10|        1|  2013-03-21 09:51:49|     23|   2012-10-29 12:18:04|             6|\n",
            "+-----+----+-----+---------------------+---------+---------------------+-------+----------------------+--------------+\n",
            "only showing top 20 rows\n",
            "\n"
          ]
        }
      ],
      "source": [
        "from pyspark.sql.window import Window\n",
        "from pyspark.sql.functions import col, min, max, count, avg, month, year, datediff, lag, when, expr, months_between\n",
        "\n",
        "# Step 1: Find the first transaction date for each user\n",
        "first_transaction = data.groupBy(\"user1\").agg(\n",
        "    min(\"datetime\").alias(\"first_transaction_date\")\n",
        ")\n",
        "\n",
        "# Step 2: Calculate the end date for the first 12 months for each user\n",
        "first_transaction = first_transaction.withColumn(\n",
        "    \"end_date\", expr(\"add_months(first_transaction_date, 12)\")\n",
        ")\n",
        "\n",
        "# Join to get the first transaction date and end date into the main dataset\n",
        "data_with_dates = data.join(first_transaction, \"user1\")\n",
        "\n",
        "# Filter transactions within the first 12 months of each user's first transaction\n",
        "filtered_data = data_with_dates.filter(\n",
        "    (col(\"datetime\") <= col(\"end_date\")) &\n",
        "    (col(\"datetime\") >= col(\"first_transaction_date\"))\n",
        ")\n",
        "\n",
        "# Add year and month columns for grouping\n",
        "filtered_data = filtered_data.withColumn(\"year\", year(\"datetime\")).withColumn(\"month\", month(\"datetime\"))\n",
        "\n",
        "# Step 3: Calculate monthly metrics for each user\n",
        "monthly_metrics = filtered_data.groupBy(\"user1\", \"year\", \"month\").agg(\n",
        "    max(\"datetime\").alias(\"last_transaction_date\"),\n",
        "    count(\"transaction_type\").alias(\"monthly_count\")\n",
        ")\n",
        "\n",
        "# Step 4: Use window function to get the previous transaction date\n",
        "window_spec = Window.partitionBy(\"user1\").orderBy(\"datetime\")\n",
        "\n",
        "# Add the previous transaction date to the dataset\n",
        "data_with_prev_transaction = filtered_data.withColumn(\n",
        "    \"prev_transaction_date\", lag(\"datetime\").over(window_spec)\n",
        ")\n",
        "\n",
        "# Calculate monthly metrics again with previous transaction date included\n",
        "monthly_metrics_with_prev = data_with_prev_transaction.groupBy(\"user1\", \"year\", \"month\").agg(\n",
        "    max(\"datetime\").alias(\"last_transaction_date\"),\n",
        "    count(\"transaction_type\").alias(\"monthly_count\"),\n",
        "    max(\"prev_transaction_date\").alias(\"prev_transaction_date\")\n",
        ")\n",
        "\n",
        "# Calculate recency based on previous transaction date, setting recency to 0 if there is no previous transaction\n",
        "monthly_metrics_with_prev = monthly_metrics_with_prev.withColumn(\n",
        "    \"recency\", when(col(\"prev_transaction_date\").isNotNull(), datediff(col(\"last_transaction_date\"), col(\"prev_transaction_date\"))).otherwise(0)\n",
        ").orderBy(\"user1\",\"year\",\"month\")\n",
        "\n",
        "# Rename the columns\n",
        "monthly_metrics_with_prev = monthly_metrics_with_prev.withColumnRenamed(\"monthly_count\", \"frequency\")\n",
        "\n",
        "# Add first_transaction_date to the final dataset\n",
        "monthly_metrics_with_prev = monthly_metrics_with_prev.join(first_transaction.select(\"user1\", \"first_transaction_date\"), \"user1\")\n",
        "\n",
        "# Calculate lifetime_point correctly\n",
        "monthly_metrics_with_prev = monthly_metrics_with_prev.withColumn(\n",
        "    \"lifetime_point\", ((year(col(\"last_transaction_date\")) - year(col(\"first_transaction_date\"))) * 12 +\n",
        "                       (month(col(\"last_transaction_date\")) - month(col(\"first_transaction_date\"))))\n",
        ").orderBy(\"user1\",\"year\",\"month\")\n",
        "\n",
        "monthly_metrics_with_prev.show(20)"
      ]
    },
    {
      "cell_type": "markdown",
      "metadata": {
        "id": "piIeWpnwKNy8"
      },
      "source": [
        "#### 3.4 Regress recency and frequency on Y"
      ]
    },
    {
      "cell_type": "code",
      "execution_count": 45,
      "metadata": {
        "colab": {
          "base_uri": "https://localhost:8080/"
        },
        "id": "FN3s8OViJwrq",
        "outputId": "9375c6d9-6cb9-41f7-e63d-280bde6b4fef"
      },
      "outputs": [
        {
          "name": "stdout",
          "output_type": "stream",
          "text": [
            "+-----+--------------+----------------------------+---------+-------+\n",
            "|user1|lifetime_point|total_transactions_12_months|frequency|recency|\n",
            "+-----+--------------+----------------------------+---------+-------+\n",
            "|    2|             0|                           1|        1|      0|\n",
            "|    3|             0|                           6|        1|      0|\n",
            "|    3|             1|                           6|        5|      0|\n",
            "|    4|             0|                           2|        2|     12|\n",
            "|   10|             0|                           7|        1|      0|\n",
            "|   10|             1|                           7|        2|      8|\n",
            "|   10|             2|                           7|        1|     14|\n",
            "|   10|             4|                           7|        2|      8|\n",
            "|   10|             5|                           7|        1|     25|\n",
            "|   11|             0|                           6|        1|      0|\n",
            "+-----+--------------+----------------------------+---------+-------+\n",
            "only showing top 10 rows\n",
            "\n"
          ]
        }
      ],
      "source": [
        "# Join the two dataframes on user1\n",
        "joined_data = total_transactions_first_12_months.join(monthly_metrics_with_prev, \"user1\")\n",
        "\n",
        "# Select the required columns\n",
        "final_data = joined_data.select(\"user1\", \"lifetime_point\", \"total_transactions_12_months\", \"frequency\", \"recency\").orderBy(\"user1\",\"lifetime_point\")\n",
        "\n",
        "# Show the result\n",
        "final_data.show(10)"
      ]
    },
    {
      "cell_type": "code",
      "execution_count": null,
      "metadata": {
        "id": "KgCSGtlClnVJ"
      },
      "outputs": [],
      "source": [
        "import pandas as pd\n",
        "import matplotlib.pyplot as plt\n",
        "from pyspark.ml.feature import VectorAssembler\n",
        "from pyspark.ml.regression import LinearRegression\n",
        "from pyspark.sql import SparkSession\n",
        "from pyspark.sql.functions import col\n",
        "\n",
        "# Dictionary to store MSE\n",
        "mse_dict = {}\n",
        "\n",
        "# Iterate through each lifetime point and calculate MSE\n",
        "for lifetime_point in range(0, 13):\n",
        "    df_lifetime = final_data.filter(col(\"lifetime_point\") == lifetime_point)\n",
        "\n",
        "    if df_lifetime.count() > 0:\n",
        "        # Split the dataset\n",
        "        train_data, test_data = df_lifetime.randomSplit([0.8, 0.2], seed=42)\n",
        "\n",
        "        # Assemble feature vector\n",
        "        assembler = VectorAssembler(inputCols=[\"frequency\", \"recency\"], outputCol=\"features\")\n",
        "        train_data = assembler.transform(train_data)\n",
        "        test_data = assembler.transform(test_data)\n",
        "\n",
        "        # Linear regression model\n",
        "        lr = LinearRegression(labelCol=\"total_transactions_12_months\", featuresCol=\"features\")\n",
        "        lr_model = lr.fit(train_data)\n",
        "\n",
        "        # Model evaluation\n",
        "        train_summary = lr_model.summary\n",
        "        test_results = lr_model.evaluate(test_data)\n",
        "\n",
        "        # Record MSE\n",
        "        mse_dict[lifetime_point] = test_results.meanSquaredError\n",
        "\n",
        "# Convert to DataFrame for plotting\n",
        "mse_df = pd.DataFrame(list(mse_dict.items()), columns=['lifetime_point', 'MSE'])\n",
        "\n",
        "# Plot the chart\n",
        "plt.figure(figsize=(10, 6))\n",
        "plt.plot(mse_df['lifetime_point'], mse_df['MSE'], marker='o')\n",
        "plt.xlabel('Lifetime Point (months)')\n",
        "plt.ylabel('Mean Squared Error (MSE)')\n",
        "plt.title('MSE for Each Lifetime Point')\n",
        "plt.grid(True)\n",
        "plt.show()"
      ]
    },
    {
      "cell_type": "markdown",
      "metadata": {
        "id": "UFwaqrJVKQv8"
      },
      "source": [
        "#### 3.5 Add Variables from Text Analysis and Social Network Analysis\n",
        "\n",
        "##### i) With Variables from Text Analysis"
      ]
    },
    {
      "cell_type": "code",
      "execution_count": null,
      "metadata": {
        "id": "FklCgcreKR2f"
      },
      "outputs": [],
      "source": [
        "# Perform left join\n",
        "joined_data = final_data.join(user_monthly_profile, (final_data.user1 == user_monthly_profile.user1) &\n",
        " (final_data.lifetime_point == user_monthly_profile.month), how='left')\n",
        "joined_data.show(truncate=False)"
      ]
    },
    {
      "cell_type": "code",
      "execution_count": null,
      "metadata": {
        "id": "ha-dKwGycUYY"
      },
      "outputs": [],
      "source": [
        "# Dictionary to store MSE\n",
        "mse_dict = {}\n",
        "\n",
        "# Iterate through each lifetime point and calculate MSE\n",
        "for lifetime_point in range(0, 13):\n",
        "    df_lifetime = joined_data.filter(col(\"lifetime_point\") == lifetime_point)\n",
        "\n",
        "    if df_lifetime.count() > 0:\n",
        "        # Split the dataset\n",
        "        train_data, test_data = df_lifetime.randomSplit([0.8, 0.2], seed=42)\n",
        "\n",
        "        # Assemble feature vector\n",
        "        assembler = VectorAssembler(inputCols=[\"frequency\", \"recency\", \"Activity\", \"Cash\", \"Event\", \"Food\",\n",
        "                                               \"Illegal/Sarcasm\", \"People\", \"Transportation\", \"Travel\", \"Utility\"],\n",
        "                                    outputCol=\"features\")\n",
        "        train_data = assembler.transform(train_data)\n",
        "        test_data = assembler.transform(test_data)\n",
        "\n",
        "        # Linear regression model\n",
        "        lr = LinearRegression(labelCol=\"total_transactions_12_months\", featuresCol=\"features\")\n",
        "        lr_model = lr.fit(train_data)\n",
        "\n",
        "        # Model evaluation\n",
        "        test_results = lr_model.evaluate(test_data)\n",
        "\n",
        "        # Record MSE\n",
        "        mse_dict[lifetime_point] = test_results.meanSquaredError\n",
        "\n",
        "# Convert to DataFrame for plotting\n",
        "mse_df = pd.DataFrame(list(mse_dict.items()), columns=['lifetime_point', 'MSE'])\n",
        "\n",
        "# Plot the chart\n",
        "plt.figure(figsize=(10, 6))\n",
        "plt.plot(mse_df['lifetime_point'], mse_df['MSE'], marker='o')\n",
        "plt.xlabel('Lifetime Point (months)')\n",
        "plt.ylabel('Mean Squared Error (MSE)')\n",
        "plt.title('MSE for Each Lifetime Point with Spending Behavior Profile')\n",
        "plt.grid(True)\n",
        "plt.show()"
      ]
    },
    {
      "cell_type": "markdown",
      "metadata": {
        "id": "PVxM0SOqKSXI"
      },
      "source": [
        "##### ii) With Variables from Social Network Analysis"
      ]
    },
    {
      "cell_type": "code",
      "execution_count": null,
      "metadata": {
        "id": "Hoin6INpKT3s"
      },
      "outputs": [],
      "source": [
        "# Perform left join and select necessary columns\n",
        "joined_data = final_data.join(\n",
        "    result_with_clustering_df,\n",
        "    (final_data.user1 == result_with_clustering_df.user) & (final_data.lifetime_point == result_with_clustering_df.month_index),\n",
        "    how='left'\n",
        ").select(\n",
        "    final_data[\"*\"],\n",
        "    result_with_clustering_df[\"friend_count\"],\n",
        "    result_with_clustering_df[\"fof_count\"]\n",
        ")\n",
        "\n",
        "# Show the result\n",
        "joined_data.show(truncate=False)"
      ]
    },
    {
      "cell_type": "code",
      "execution_count": null,
      "metadata": {
        "id": "XC6NEFsceO2F"
      },
      "outputs": [],
      "source": [
        "# Dictionary to store MSE\n",
        "mse_dict = {}\n",
        "\n",
        "# Iterate through each lifetime point and calculate MSE\n",
        "for lifetime_point in range(0, 13):\n",
        "    df_lifetime = joined_data.filter(col(\"lifetime_point\") == lifetime_point)\n",
        "\n",
        "    if df_lifetime.count() > 0:\n",
        "        # Split the dataset\n",
        "        train_data, test_data = df_lifetime.randomSplit([0.8, 0.2], seed=42)\n",
        "\n",
        "        # Assemble feature vector\n",
        "        assembler = VectorAssembler(inputCols=[\"friend_count\", \"fof_count\"], outputCol=\"features\")\n",
        "        train_data = assembler.transform(train_data)\n",
        "        test_data = assembler.transform(test_data)\n",
        "\n",
        "        # Linear regression model\n",
        "        lr = LinearRegression(labelCol=\"total_transactions_12_months\", featuresCol=\"features\")\n",
        "        lr_model = lr.fit(train_data)\n",
        "\n",
        "        # Model evaluation\n",
        "        test_results = lr_model.evaluate(test_data)\n",
        "\n",
        "        # Record MSE\n",
        "        mse_dict[lifetime_point] = test_results.meanSquaredError\n",
        "\n",
        "# Convert to DataFrame for plotting\n",
        "mse_df = pd.DataFrame(list(mse_dict.items()), columns=['lifetime_point', 'MSE'])\n",
        "\n",
        "# Plot the chart\n",
        "plt.figure(figsize=(10, 6))\n",
        "plt.plot(mse_df['lifetime_point'], mse_df['MSE'], marker='o')\n",
        "plt.xlabel('Lifetime Point (months)')\n",
        "plt.ylabel('Mean Squared Error (MSE)')\n",
        "plt.title('MSE for Each Lifetime Point with Social Network Metrics')\n",
        "plt.grid(True)\n",
        "plt.show()"
      ]
    },
    {
      "cell_type": "markdown",
      "metadata": {
        "id": "o7bLZEN_KUO2"
      },
      "source": [
        "##### iii) With Variables from both Analysis"
      ]
    },
    {
      "cell_type": "code",
      "execution_count": null,
      "metadata": {
        "id": "2xeu8bHgKVGD"
      },
      "outputs": [],
      "source": [
        "# Perform left join of final_data and result_with_clustering_df\n",
        "joined_data_temp = final_data.join(\n",
        "    result_with_clustering_df,\n",
        "    (final_data.user1 == result_with_clustering_df.user) & (final_data.lifetime_point == result_with_clustering_df.month_index),\n",
        "    how='left'\n",
        ").select(\n",
        "    final_data[\"*\"],\n",
        "    result_with_clustering_df[\"friend_count\"],\n",
        "    result_with_clustering_df[\"fof_count\"]\n",
        ")\n",
        "\n",
        "# Perform left join of the result with user_monthly_profile\n",
        "joined_data = joined_data_temp.join(\n",
        "    user_monthly_profile,\n",
        "    (joined_data_temp.user1 == user_monthly_profile.user1) & (joined_data_temp.lifetime_point == user_monthly_profile.month),\n",
        "    how='left'\n",
        ").select(\n",
        "    joined_data_temp[\"*\"],\n",
        "    user_monthly_profile[\"Activity\"],\n",
        "    user_monthly_profile[\"Cash\"],\n",
        "    user_monthly_profile[\"Event\"],\n",
        "    user_monthly_profile[\"Food\"],\n",
        "    user_monthly_profile[\"Illegal/Sarcasm\"],\n",
        "    user_monthly_profile[\"People\"],\n",
        "    user_monthly_profile[\"Transportation\"],\n",
        "    user_monthly_profile[\"Travel\"],\n",
        "    user_monthly_profile[\"Utility\"]\n",
        ")\n",
        "\n",
        "# Show the result\n",
        "joined_data.show(truncate=False)"
      ]
    },
    {
      "cell_type": "code",
      "execution_count": null,
      "metadata": {
        "id": "Mye5S4eIf2cg"
      },
      "outputs": [],
      "source": [
        "# Dictionary to store MSE\n",
        "mse_dict = {}\n",
        "\n",
        "# Iterate through each lifetime point and calculate MSE\n",
        "for lifetime_point in range(0, 13):\n",
        "    df_lifetime = joined_data.filter(col(\"lifetime_point\") == lifetime_point)\n",
        "\n",
        "    if df_lifetime.count() > 0:\n",
        "        # Split the dataset\n",
        "        train_data, test_data = df_lifetime.randomSplit([0.8, 0.2], seed=42)\n",
        "\n",
        "        # Assemble feature vector\n",
        "        assembler = VectorAssembler(inputCols=[\"friend_count\", \"fof_count\", \"Activity\", \"Cash\", \"Event\", \"Food\",\n",
        "                                               \"Illegal/Sarcasm\", \"People\", \"Transportation\", \"Travel\", \"Utility\"],\n",
        "                                    outputCol=\"features\")\n",
        "        train_data = assembler.transform(train_data)\n",
        "        test_data = assembler.transform(test_data)\n",
        "\n",
        "        # Linear regression model\n",
        "        lr = LinearRegression(labelCol=\"total_transactions_12_months\", featuresCol=\"features\")\n",
        "        lr_model = lr.fit(train_data)\n",
        "\n",
        "        # Model evaluation\n",
        "        test_results = lr_model.evaluate(test_data)\n",
        "\n",
        "        # Record MSE\n",
        "        mse_dict[lifetime_point] = test_results.meanSquaredError\n",
        "\n",
        "# Convert to DataFrame for plotting\n",
        "mse_df = pd.DataFrame(list(mse_dict.items()), columns=['lifetime_point', 'MSE'])\n",
        "\n",
        "# Plot the chart\n",
        "plt.figure(figsize=(10, 6))\n",
        "plt.plot(mse_df['lifetime_point'], mse_df['MSE'], marker='o')\n",
        "plt.xlabel('Lifetime Point (months)')\n",
        "plt.ylabel('Mean Squared Error (MSE)')\n",
        "plt.title('MSE for Each Lifetime Point with Social Network Metrics and Spending Behavior')\n",
        "plt.grid(True)\n",
        "plt.show()"
      ]
    }
  ],
  "metadata": {
    "accelerator": "GPU",
    "colab": {
      "gpuType": "T4",
      "provenance": []
    },
    "kernelspec": {
      "display_name": "Python 3",
      "name": "python3"
    },
    "language_info": {
      "name": "python"
    }
  },
  "nbformat": 4,
  "nbformat_minor": 0
}
